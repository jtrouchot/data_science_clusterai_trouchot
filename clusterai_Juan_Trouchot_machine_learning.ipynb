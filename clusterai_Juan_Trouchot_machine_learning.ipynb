{
  "nbformat": 4,
  "nbformat_minor": 0,
  "metadata": {
    "colab": {
      "name": "MachineLearning_defunciones.ipynb",
      "provenance": [],
      "collapsed_sections": []
    },
    "kernelspec": {
      "name": "python3",
      "display_name": "Python 3"
    }
  },
  "cells": [
    {
      "cell_type": "code",
      "metadata": {
        "id": "0EgM7Uu4D0P7",
        "colab_type": "code",
        "colab": {}
      },
      "source": [
        "import numpy as np\n",
        "import pandas as pd\n",
        "import matplotlib.pyplot as plt\n",
        "import seaborn as sns\n",
        "from pydrive.auth import GoogleAuth\n",
        "from pydrive.drive import GoogleDrive\n",
        "from google.colab import auth\n",
        "from oauth2client.client import GoogleCredentials"
      ],
      "execution_count": 0,
      "outputs": []
    },
    {
      "cell_type": "code",
      "metadata": {
        "id": "_D-1a5eREC-Z",
        "colab_type": "code",
        "outputId": "c8f9a6c3-4cdc-4993-a5ca-554d67365b8d",
        "colab": {
          "base_uri": "https://localhost:8080/",
          "height": 34
        }
      },
      "source": [
        "from google.colab import drive\n",
        "drive.mount('/content/drive')"
      ],
      "execution_count": 0,
      "outputs": [
        {
          "output_type": "stream",
          "text": [
            "Drive already mounted at /content/drive; to attempt to forcibly remount, call drive.mount(\"/content/drive\", force_remount=True).\n"
          ],
          "name": "stdout"
        }
      ]
    },
    {
      "cell_type": "code",
      "metadata": {
        "id": "ChxDZ-lrEFfB",
        "colab_type": "code",
        "outputId": "489f0b27-9499-4886-ad83-6e26876f6248",
        "colab": {
          "base_uri": "https://localhost:8080/",
          "height": 719
        }
      },
      "source": [
        "defunciones = pd.read_excel('/content/drive/My Drive/CIENCIA DE DATOS-Colab Notebooks/DATASETS DEFUNCIONES/defunciones_procesado.xlsx')\n",
        "defunciones.head(10)"
      ],
      "execution_count": 0,
      "outputs": [
        {
          "output_type": "execute_result",
          "data": {
            "text/html": [
              "<div>\n",
              "<style scoped>\n",
              "    .dataframe tbody tr th:only-of-type {\n",
              "        vertical-align: middle;\n",
              "    }\n",
              "\n",
              "    .dataframe tbody tr th {\n",
              "        vertical-align: top;\n",
              "    }\n",
              "\n",
              "    .dataframe thead th {\n",
              "        text-align: right;\n",
              "    }\n",
              "</style>\n",
              "<table border=\"1\" class=\"dataframe\">\n",
              "  <thead>\n",
              "    <tr style=\"text-align: right;\">\n",
              "      <th></th>\n",
              "      <th>año</th>\n",
              "      <th>jurisdiccion_de_residencia_id</th>\n",
              "      <th>jurisdiccion_de_residencia_nombre</th>\n",
              "      <th>sexo_id</th>\n",
              "      <th>sexo_nombre</th>\n",
              "      <th>cie10_causa_id</th>\n",
              "      <th>cie10_causa_nombre</th>\n",
              "      <th>grupos_edad_id</th>\n",
              "      <th>grupos_edad_nombre</th>\n",
              "      <th>cantidad_de_defunciones</th>\n",
              "      <th>poblacion</th>\n",
              "      <th>cantidad_de_defunciones_percapita</th>\n",
              "      <th>letra_causa</th>\n",
              "      <th>numero_causa</th>\n",
              "      <th>causa_muerte</th>\n",
              "    </tr>\n",
              "  </thead>\n",
              "  <tbody>\n",
              "    <tr>\n",
              "      <th>0</th>\n",
              "      <td>2010</td>\n",
              "      <td>2</td>\n",
              "      <td>Ciudad Aut. de Buenos Aires</td>\n",
              "      <td>2</td>\n",
              "      <td>Mujer</td>\n",
              "      <td>J98</td>\n",
              "      <td>Otros trastornos respiratorios</td>\n",
              "      <td>7</td>\n",
              "      <td>30 a 34</td>\n",
              "      <td>2</td>\n",
              "      <td>1622915</td>\n",
              "      <td>1.232350e-06</td>\n",
              "      <td>J</td>\n",
              "      <td>98</td>\n",
              "      <td>Enfermedades del sistema respiratorio</td>\n",
              "    </tr>\n",
              "    <tr>\n",
              "      <th>1</th>\n",
              "      <td>2010</td>\n",
              "      <td>14</td>\n",
              "      <td>Córdoba</td>\n",
              "      <td>2</td>\n",
              "      <td>Mujer</td>\n",
              "      <td>G60</td>\n",
              "      <td>Neuropatía hereditaria e idiopática</td>\n",
              "      <td>4</td>\n",
              "      <td>15 a 19</td>\n",
              "      <td>1</td>\n",
              "      <td>1730725</td>\n",
              "      <td>5.777925e-07</td>\n",
              "      <td>G</td>\n",
              "      <td>60</td>\n",
              "      <td>Enfermedades del sistema nervioso</td>\n",
              "    </tr>\n",
              "    <tr>\n",
              "      <th>2</th>\n",
              "      <td>2010</td>\n",
              "      <td>6</td>\n",
              "      <td>Buenos Aires</td>\n",
              "      <td>1</td>\n",
              "      <td>Varón</td>\n",
              "      <td>I38</td>\n",
              "      <td>Endocarditis, válvula no especificada</td>\n",
              "      <td>17</td>\n",
              "      <td>80 y más</td>\n",
              "      <td>1</td>\n",
              "      <td>10496134</td>\n",
              "      <td>9.527317e-08</td>\n",
              "      <td>I</td>\n",
              "      <td>38</td>\n",
              "      <td>Enfermedades del sistema circulatorio</td>\n",
              "    </tr>\n",
              "    <tr>\n",
              "      <th>3</th>\n",
              "      <td>2010</td>\n",
              "      <td>30</td>\n",
              "      <td>Entre Ríos</td>\n",
              "      <td>2</td>\n",
              "      <td>Mujer</td>\n",
              "      <td>G12</td>\n",
              "      <td>Atrofia muscular espinal y síndromes afines</td>\n",
              "      <td>14</td>\n",
              "      <td>65 a 69</td>\n",
              "      <td>1</td>\n",
              "      <td>640467</td>\n",
              "      <td>1.561361e-06</td>\n",
              "      <td>G</td>\n",
              "      <td>12</td>\n",
              "      <td>Enfermedades del sistema nervioso</td>\n",
              "    </tr>\n",
              "    <tr>\n",
              "      <th>4</th>\n",
              "      <td>2010</td>\n",
              "      <td>14</td>\n",
              "      <td>Córdoba</td>\n",
              "      <td>1</td>\n",
              "      <td>Varón</td>\n",
              "      <td>Y20</td>\n",
              "      <td>Ahorcamiento, estrangulamiento y sofocación, d...</td>\n",
              "      <td>16</td>\n",
              "      <td>75 a 79</td>\n",
              "      <td>1</td>\n",
              "      <td>1642300</td>\n",
              "      <td>6.089021e-07</td>\n",
              "      <td>Y</td>\n",
              "      <td>20</td>\n",
              "      <td>Eventos de intención no determinada</td>\n",
              "    </tr>\n",
              "    <tr>\n",
              "      <th>5</th>\n",
              "      <td>2010</td>\n",
              "      <td>30</td>\n",
              "      <td>Entre Ríos</td>\n",
              "      <td>1</td>\n",
              "      <td>Varón</td>\n",
              "      <td>J20</td>\n",
              "      <td>Bronquitis aguda</td>\n",
              "      <td>2</td>\n",
              "      <td>1 a 9</td>\n",
              "      <td>1</td>\n",
              "      <td>615107</td>\n",
              "      <td>1.625733e-06</td>\n",
              "      <td>J</td>\n",
              "      <td>20</td>\n",
              "      <td>Enfermedades del sistema respiratorio</td>\n",
              "    </tr>\n",
              "    <tr>\n",
              "      <th>6</th>\n",
              "      <td>2010</td>\n",
              "      <td>6</td>\n",
              "      <td>Buenos Aires</td>\n",
              "      <td>2</td>\n",
              "      <td>Mujer</td>\n",
              "      <td>G61</td>\n",
              "      <td>Polineuopatía inflamatoria</td>\n",
              "      <td>10</td>\n",
              "      <td>45 a 49</td>\n",
              "      <td>1</td>\n",
              "      <td>10966864</td>\n",
              "      <td>9.118377e-08</td>\n",
              "      <td>G</td>\n",
              "      <td>61</td>\n",
              "      <td>Enfermedades del sistema nervioso</td>\n",
              "    </tr>\n",
              "    <tr>\n",
              "      <th>7</th>\n",
              "      <td>2010</td>\n",
              "      <td>74</td>\n",
              "      <td>San Luis</td>\n",
              "      <td>1</td>\n",
              "      <td>Varón</td>\n",
              "      <td>X74</td>\n",
              "      <td>Lesión autoinfligida intencionalmente por disp...</td>\n",
              "      <td>12</td>\n",
              "      <td>55 a 59</td>\n",
              "      <td>2</td>\n",
              "      <td>219940</td>\n",
              "      <td>9.093389e-06</td>\n",
              "      <td>X</td>\n",
              "      <td>74</td>\n",
              "      <td>Lesiones autoinflingidas intencionalmente</td>\n",
              "    </tr>\n",
              "    <tr>\n",
              "      <th>8</th>\n",
              "      <td>2010</td>\n",
              "      <td>90</td>\n",
              "      <td>Tucumán</td>\n",
              "      <td>1</td>\n",
              "      <td>Varón</td>\n",
              "      <td>C25</td>\n",
              "      <td>Tumor maligno del páncreas</td>\n",
              "      <td>17</td>\n",
              "      <td>80 y más</td>\n",
              "      <td>3</td>\n",
              "      <td>733744</td>\n",
              "      <td>4.088619e-06</td>\n",
              "      <td>C</td>\n",
              "      <td>25</td>\n",
              "      <td>Tumores (neoplasias) malignos</td>\n",
              "    </tr>\n",
              "    <tr>\n",
              "      <th>9</th>\n",
              "      <td>2010</td>\n",
              "      <td>38</td>\n",
              "      <td>Jujuy</td>\n",
              "      <td>1</td>\n",
              "      <td>Varón</td>\n",
              "      <td>X31</td>\n",
              "      <td>Exposición al frío natural excesivo</td>\n",
              "      <td>15</td>\n",
              "      <td>70 a 74</td>\n",
              "      <td>1</td>\n",
              "      <td>336954</td>\n",
              "      <td>2.967764e-06</td>\n",
              "      <td>X</td>\n",
              "      <td>31</td>\n",
              "      <td>Exposición a fuerzas de la naturaleza</td>\n",
              "    </tr>\n",
              "  </tbody>\n",
              "</table>\n",
              "</div>"
            ],
            "text/plain": [
              "    año  ...                               causa_muerte\n",
              "0  2010  ...      Enfermedades del sistema respiratorio\n",
              "1  2010  ...          Enfermedades del sistema nervioso\n",
              "2  2010  ...      Enfermedades del sistema circulatorio\n",
              "3  2010  ...          Enfermedades del sistema nervioso\n",
              "4  2010  ...        Eventos de intención no determinada\n",
              "5  2010  ...      Enfermedades del sistema respiratorio\n",
              "6  2010  ...          Enfermedades del sistema nervioso\n",
              "7  2010  ...  Lesiones autoinflingidas intencionalmente\n",
              "8  2010  ...              Tumores (neoplasias) malignos\n",
              "9  2010  ...      Exposición a fuerzas de la naturaleza\n",
              "\n",
              "[10 rows x 15 columns]"
            ]
          },
          "metadata": {
            "tags": []
          },
          "execution_count": 319
        }
      ]
    },
    {
      "cell_type": "markdown",
      "metadata": {
        "id": "dmz4HOjT2eHL",
        "colab_type": "text"
      },
      "source": [
        "# **Intentaremos predecir la cantidad de muertes a partir de los datos de año, grupos de edad y causa de muerte**"
      ]
    },
    {
      "cell_type": "code",
      "metadata": {
        "id": "KQD5uGUmvqxw",
        "colab_type": "code",
        "outputId": "8fa7fa0d-d8d2-4873-af97-1742f372bb51",
        "colab": {
          "base_uri": "https://localhost:8080/",
          "height": 204
        }
      },
      "source": [
        "defunciones_g = defunciones.groupby(['grupos_edad_nombre','año','causa_muerte'])[\"cantidad_de_defunciones\"].sum().to_frame().reset_index()\n",
        "defunciones_g.head()"
      ],
      "execution_count": 0,
      "outputs": [
        {
          "output_type": "execute_result",
          "data": {
            "text/html": [
              "<div>\n",
              "<style scoped>\n",
              "    .dataframe tbody tr th:only-of-type {\n",
              "        vertical-align: middle;\n",
              "    }\n",
              "\n",
              "    .dataframe tbody tr th {\n",
              "        vertical-align: top;\n",
              "    }\n",
              "\n",
              "    .dataframe thead th {\n",
              "        text-align: right;\n",
              "    }\n",
              "</style>\n",
              "<table border=\"1\" class=\"dataframe\">\n",
              "  <thead>\n",
              "    <tr style=\"text-align: right;\">\n",
              "      <th></th>\n",
              "      <th>grupos_edad_nombre</th>\n",
              "      <th>año</th>\n",
              "      <th>causa_muerte</th>\n",
              "      <th>cantidad_de_defunciones</th>\n",
              "    </tr>\n",
              "  </thead>\n",
              "  <tbody>\n",
              "    <tr>\n",
              "      <th>0</th>\n",
              "      <td>1 a 9</td>\n",
              "      <td>2010</td>\n",
              "      <td>Accidentes de transporte</td>\n",
              "      <td>161</td>\n",
              "    </tr>\n",
              "    <tr>\n",
              "      <th>1</th>\n",
              "      <td>1 a 9</td>\n",
              "      <td>2010</td>\n",
              "      <td>Agresiones</td>\n",
              "      <td>28</td>\n",
              "    </tr>\n",
              "    <tr>\n",
              "      <th>2</th>\n",
              "      <td>1 a 9</td>\n",
              "      <td>2010</td>\n",
              "      <td>Ciertas enfermedades infecciosas y parasitarias</td>\n",
              "      <td>134</td>\n",
              "    </tr>\n",
              "    <tr>\n",
              "      <th>3</th>\n",
              "      <td>1 a 9</td>\n",
              "      <td>2010</td>\n",
              "      <td>Complicaciones de la atención médica y quirúrgica</td>\n",
              "      <td>6</td>\n",
              "    </tr>\n",
              "    <tr>\n",
              "      <th>4</th>\n",
              "      <td>1 a 9</td>\n",
              "      <td>2010</td>\n",
              "      <td>Contacto traumático con animales y plantas ven...</td>\n",
              "      <td>3</td>\n",
              "    </tr>\n",
              "  </tbody>\n",
              "</table>\n",
              "</div>"
            ],
            "text/plain": [
              "  grupos_edad_nombre  ...  cantidad_de_defunciones\n",
              "0              1 a 9  ...                      161\n",
              "1              1 a 9  ...                       28\n",
              "2              1 a 9  ...                      134\n",
              "3              1 a 9  ...                        6\n",
              "4              1 a 9  ...                        3\n",
              "\n",
              "[5 rows x 4 columns]"
            ]
          },
          "metadata": {
            "tags": []
          },
          "execution_count": 387
        }
      ]
    },
    {
      "cell_type": "code",
      "metadata": {
        "id": "iDVtwuOTxoTU",
        "colab_type": "code",
        "outputId": "5624e4ae-790e-48fa-ee69-e8c641423721",
        "colab": {
          "base_uri": "https://localhost:8080/",
          "height": 297
        }
      },
      "source": [
        "defunciones_g.describe()"
      ],
      "execution_count": 0,
      "outputs": [
        {
          "output_type": "execute_result",
          "data": {
            "text/html": [
              "<div>\n",
              "<style scoped>\n",
              "    .dataframe tbody tr th:only-of-type {\n",
              "        vertical-align: middle;\n",
              "    }\n",
              "\n",
              "    .dataframe tbody tr th {\n",
              "        vertical-align: top;\n",
              "    }\n",
              "\n",
              "    .dataframe thead th {\n",
              "        text-align: right;\n",
              "    }\n",
              "</style>\n",
              "<table border=\"1\" class=\"dataframe\">\n",
              "  <thead>\n",
              "    <tr style=\"text-align: right;\">\n",
              "      <th></th>\n",
              "      <th>año</th>\n",
              "      <th>cantidad_de_defunciones</th>\n",
              "    </tr>\n",
              "  </thead>\n",
              "  <tbody>\n",
              "    <tr>\n",
              "      <th>count</th>\n",
              "      <td>3742.000000</td>\n",
              "      <td>3742.000000</td>\n",
              "    </tr>\n",
              "    <tr>\n",
              "      <th>mean</th>\n",
              "      <td>2013.525387</td>\n",
              "      <td>698.565473</td>\n",
              "    </tr>\n",
              "    <tr>\n",
              "      <th>std</th>\n",
              "      <td>2.295882</td>\n",
              "      <td>3029.776299</td>\n",
              "    </tr>\n",
              "    <tr>\n",
              "      <th>min</th>\n",
              "      <td>2010.000000</td>\n",
              "      <td>1.000000</td>\n",
              "    </tr>\n",
              "    <tr>\n",
              "      <th>25%</th>\n",
              "      <td>2012.000000</td>\n",
              "      <td>18.000000</td>\n",
              "    </tr>\n",
              "    <tr>\n",
              "      <th>50%</th>\n",
              "      <td>2014.000000</td>\n",
              "      <td>92.000000</td>\n",
              "    </tr>\n",
              "    <tr>\n",
              "      <th>75%</th>\n",
              "      <td>2016.000000</td>\n",
              "      <td>251.000000</td>\n",
              "    </tr>\n",
              "    <tr>\n",
              "      <th>max</th>\n",
              "      <td>2017.000000</td>\n",
              "      <td>50291.000000</td>\n",
              "    </tr>\n",
              "  </tbody>\n",
              "</table>\n",
              "</div>"
            ],
            "text/plain": [
              "               año  cantidad_de_defunciones\n",
              "count  3742.000000              3742.000000\n",
              "mean   2013.525387               698.565473\n",
              "std       2.295882              3029.776299\n",
              "min    2010.000000                 1.000000\n",
              "25%    2012.000000                18.000000\n",
              "50%    2014.000000                92.000000\n",
              "75%    2016.000000               251.000000\n",
              "max    2017.000000             50291.000000"
            ]
          },
          "metadata": {
            "tags": []
          },
          "execution_count": 388
        }
      ]
    },
    {
      "cell_type": "markdown",
      "metadata": {
        "colab_type": "text",
        "id": "m2Q_gdPYDKEV"
      },
      "source": [
        "\n",
        "\n",
        "---\n",
        "\n",
        "# **Aplicaremos modelos de regresion para predecir la cantidad de defunciones**"
      ]
    },
    {
      "cell_type": "code",
      "metadata": {
        "colab_type": "code",
        "id": "KjdEJNjPDKEC",
        "colab": {}
      },
      "source": [
        "df_train = pd.DataFrame(defunciones_g)"
      ],
      "execution_count": 0,
      "outputs": []
    },
    {
      "cell_type": "markdown",
      "metadata": {
        "colab_type": "text",
        "id": "5Xqd0daUDKD_"
      },
      "source": [
        "\n",
        "\n",
        "---\n",
        "\n",
        "# **Generamos dummies de las causas de muerte**"
      ]
    },
    {
      "cell_type": "code",
      "metadata": {
        "colab_type": "code",
        "outputId": "81048703-d3d2-4709-a51d-5a3111cfbce4",
        "id": "trmj06vJDKD3",
        "colab": {
          "base_uri": "https://localhost:8080/",
          "height": 34
        }
      },
      "source": [
        "causa_muerte_dummies = pd.get_dummies(df_train.causa_muerte)\n",
        "df_train = pd.concat([df_train,causa_muerte_dummies], axis=1)\n",
        "df_train.shape\n",
        "\n",
        "grupos_edad_dummies = pd.get_dummies(df_train.grupos_edad_nombre)\n",
        "df_train = pd.concat([df_train,grupos_edad_dummies], axis=1)\n",
        "df_train.shape"
      ],
      "execution_count": 0,
      "outputs": [
        {
          "output_type": "execute_result",
          "data": {
            "text/plain": [
              "(3742, 55)"
            ]
          },
          "metadata": {
            "tags": []
          },
          "execution_count": 390
        }
      ]
    },
    {
      "cell_type": "code",
      "metadata": {
        "colab_type": "code",
        "id": "k37-AzqXDKDx",
        "colab": {}
      },
      "source": [
        "from sklearn import preprocessing\n",
        "from sklearn.model_selection import train_test_split\n",
        "from sklearn.linear_model import LinearRegression\n",
        "from sklearn.svm import SVR\n",
        "from sklearn.svm import LinearSVR\n",
        "from sklearn.neighbors import KNeighborsRegressor\n",
        "from sklearn.metrics import mean_squared_error, r2_score, mean_absolute_error\n",
        "from sklearn.model_selection import GridSearchCV\n",
        "#from sklearn.metrics import accuracy_score\n",
        "y = np.array(df_train[[\"cantidad_de_defunciones\"]])\n",
        "x = df_train.drop(['causa_muerte', 'cantidad_de_defunciones','grupos_edad_nombre'], axis=1)\n",
        "#x = df_train.drop(['cantidad_de_defunciones','cie10_causa_nombre'], axis=1)\n",
        "xtrain, xtest, ytrain, ytest = train_test_split(x, y, test_size=0.01, random_state=54)"
      ],
      "execution_count": 0,
      "outputs": []
    },
    {
      "cell_type": "code",
      "metadata": {
        "colab_type": "code",
        "outputId": "77e225bb-5b51-4d38-aae8-81111da1687a",
        "id": "aRU2MHdzDKDk",
        "colab": {
          "base_uri": "https://localhost:8080/",
          "height": 34
        }
      },
      "source": [
        "xtrain.shape"
      ],
      "execution_count": 0,
      "outputs": [
        {
          "output_type": "execute_result",
          "data": {
            "text/plain": [
              "(3704, 52)"
            ]
          },
          "metadata": {
            "tags": []
          },
          "execution_count": 392
        }
      ]
    },
    {
      "cell_type": "code",
      "metadata": {
        "colab_type": "code",
        "outputId": "002a2adc-8711-4b40-874f-c24d128aa153",
        "id": "__muLI8XDKDd",
        "colab": {
          "base_uri": "https://localhost:8080/",
          "height": 394
        }
      },
      "source": [
        "xtrain.head()"
      ],
      "execution_count": 0,
      "outputs": [
        {
          "output_type": "execute_result",
          "data": {
            "text/html": [
              "<div>\n",
              "<style scoped>\n",
              "    .dataframe tbody tr th:only-of-type {\n",
              "        vertical-align: middle;\n",
              "    }\n",
              "\n",
              "    .dataframe tbody tr th {\n",
              "        vertical-align: top;\n",
              "    }\n",
              "\n",
              "    .dataframe thead th {\n",
              "        text-align: right;\n",
              "    }\n",
              "</style>\n",
              "<table border=\"1\" class=\"dataframe\">\n",
              "  <thead>\n",
              "    <tr style=\"text-align: right;\">\n",
              "      <th></th>\n",
              "      <th>año</th>\n",
              "      <th>Accidentes de transporte</th>\n",
              "      <th>Agresiones</th>\n",
              "      <th>Ciertas afecciones originadas en el periodo neonatal</th>\n",
              "      <th>Ciertas enfermedades infecciosas y parasitarias</th>\n",
              "      <th>Complicaciones de la atención médica y quirúrgica</th>\n",
              "      <th>Contacto traumático con animales y plantas venesosas</th>\n",
              "      <th>Embarazo, parto y puerperio</th>\n",
              "      <th>Enfermedades de la piel y el tejido subcutáneo</th>\n",
              "      <th>Enfermedades de la sangre y de los órganos hematopoyéticos y ciertos trastornos que afectan el mecanismo de la inmunidad</th>\n",
              "      <th>Enfermedades del ojo y sus anexos</th>\n",
              "      <th>Enfermedades del oído y de la apófisis mastoides</th>\n",
              "      <th>Enfermedades del sistema circulatorio</th>\n",
              "      <th>Enfermedades del sistema digestivo</th>\n",
              "      <th>Enfermedades del sistema genitourinario</th>\n",
              "      <th>Enfermedades del sistema nervioso</th>\n",
              "      <th>Enfermedades del sistema osteomuscular y del tejido conjuntivo</th>\n",
              "      <th>Enfermedades del sistema respiratorio</th>\n",
              "      <th>Enfermedades endócrinas, nutricionales y metabólicas</th>\n",
              "      <th>Envenenamiento accidental por exposición a sustancias nocivas</th>\n",
              "      <th>Eventos de intención no determinada</th>\n",
              "      <th>Exceso de esfuerzo, viajes y privación</th>\n",
              "      <th>Exposición a fuerzas de la naturaleza</th>\n",
              "      <th>Exposición accidental a otros factores y a los no especificados</th>\n",
              "      <th>Exposición al fuego, humo y llamas</th>\n",
              "      <th>Infecciones virales caracterizadas por lesiones de la piel y de la membranas mucosas</th>\n",
              "      <th>Intervención legal y operaciones de guerra</th>\n",
              "      <th>Lesiones autoinflingidas intencionalmente</th>\n",
              "      <th>Malformaciones congénitas</th>\n",
              "      <th>Otras causas externas de traumatismos accidentales</th>\n",
              "      <th>Secuelas de causas externas de morbilidad y mortalidad</th>\n",
              "      <th>Sintomas, signos y hallazgos anormales clinicos y de laboratorio no clasificados en otra parte</th>\n",
              "      <th>Trastornos mentales y del comportamiento</th>\n",
              "      <th>Tumores (neoplasias)</th>\n",
              "      <th>Tumores (neoplasias) malignos</th>\n",
              "      <th>1 a 9</th>\n",
              "      <th>10 a 14</th>\n",
              "      <th>15 a 19</th>\n",
              "      <th>20 a 24</th>\n",
              "      <th>25 a 29</th>\n",
              "      <th>30 a 34</th>\n",
              "      <th>35 a 39</th>\n",
              "      <th>40 a 44</th>\n",
              "      <th>45 a 49</th>\n",
              "      <th>50 a 54</th>\n",
              "      <th>55 a 59</th>\n",
              "      <th>60 a 64</th>\n",
              "      <th>65 a 69</th>\n",
              "      <th>70 a 74</th>\n",
              "      <th>75 a 79</th>\n",
              "      <th>80 y más</th>\n",
              "      <th>Menor de 1 año</th>\n",
              "    </tr>\n",
              "  </thead>\n",
              "  <tbody>\n",
              "    <tr>\n",
              "      <th>2606</th>\n",
              "      <td>2016</td>\n",
              "      <td>0</td>\n",
              "      <td>0</td>\n",
              "      <td>0</td>\n",
              "      <td>0</td>\n",
              "      <td>0</td>\n",
              "      <td>0</td>\n",
              "      <td>0</td>\n",
              "      <td>1</td>\n",
              "      <td>0</td>\n",
              "      <td>0</td>\n",
              "      <td>0</td>\n",
              "      <td>0</td>\n",
              "      <td>0</td>\n",
              "      <td>0</td>\n",
              "      <td>0</td>\n",
              "      <td>0</td>\n",
              "      <td>0</td>\n",
              "      <td>0</td>\n",
              "      <td>0</td>\n",
              "      <td>0</td>\n",
              "      <td>0</td>\n",
              "      <td>0</td>\n",
              "      <td>0</td>\n",
              "      <td>0</td>\n",
              "      <td>0</td>\n",
              "      <td>0</td>\n",
              "      <td>0</td>\n",
              "      <td>0</td>\n",
              "      <td>0</td>\n",
              "      <td>0</td>\n",
              "      <td>0</td>\n",
              "      <td>0</td>\n",
              "      <td>0</td>\n",
              "      <td>0</td>\n",
              "      <td>0</td>\n",
              "      <td>0</td>\n",
              "      <td>0</td>\n",
              "      <td>0</td>\n",
              "      <td>0</td>\n",
              "      <td>0</td>\n",
              "      <td>0</td>\n",
              "      <td>0</td>\n",
              "      <td>0</td>\n",
              "      <td>0</td>\n",
              "      <td>0</td>\n",
              "      <td>1</td>\n",
              "      <td>0</td>\n",
              "      <td>0</td>\n",
              "      <td>0</td>\n",
              "      <td>0</td>\n",
              "      <td>0</td>\n",
              "    </tr>\n",
              "    <tr>\n",
              "      <th>3495</th>\n",
              "      <td>2016</td>\n",
              "      <td>0</td>\n",
              "      <td>0</td>\n",
              "      <td>0</td>\n",
              "      <td>0</td>\n",
              "      <td>0</td>\n",
              "      <td>0</td>\n",
              "      <td>0</td>\n",
              "      <td>0</td>\n",
              "      <td>1</td>\n",
              "      <td>0</td>\n",
              "      <td>0</td>\n",
              "      <td>0</td>\n",
              "      <td>0</td>\n",
              "      <td>0</td>\n",
              "      <td>0</td>\n",
              "      <td>0</td>\n",
              "      <td>0</td>\n",
              "      <td>0</td>\n",
              "      <td>0</td>\n",
              "      <td>0</td>\n",
              "      <td>0</td>\n",
              "      <td>0</td>\n",
              "      <td>0</td>\n",
              "      <td>0</td>\n",
              "      <td>0</td>\n",
              "      <td>0</td>\n",
              "      <td>0</td>\n",
              "      <td>0</td>\n",
              "      <td>0</td>\n",
              "      <td>0</td>\n",
              "      <td>0</td>\n",
              "      <td>0</td>\n",
              "      <td>0</td>\n",
              "      <td>0</td>\n",
              "      <td>0</td>\n",
              "      <td>0</td>\n",
              "      <td>0</td>\n",
              "      <td>0</td>\n",
              "      <td>0</td>\n",
              "      <td>0</td>\n",
              "      <td>0</td>\n",
              "      <td>0</td>\n",
              "      <td>0</td>\n",
              "      <td>0</td>\n",
              "      <td>0</td>\n",
              "      <td>0</td>\n",
              "      <td>0</td>\n",
              "      <td>0</td>\n",
              "      <td>0</td>\n",
              "      <td>1</td>\n",
              "      <td>0</td>\n",
              "    </tr>\n",
              "    <tr>\n",
              "      <th>2914</th>\n",
              "      <td>2011</td>\n",
              "      <td>0</td>\n",
              "      <td>0</td>\n",
              "      <td>0</td>\n",
              "      <td>0</td>\n",
              "      <td>0</td>\n",
              "      <td>0</td>\n",
              "      <td>0</td>\n",
              "      <td>0</td>\n",
              "      <td>0</td>\n",
              "      <td>0</td>\n",
              "      <td>0</td>\n",
              "      <td>0</td>\n",
              "      <td>0</td>\n",
              "      <td>1</td>\n",
              "      <td>0</td>\n",
              "      <td>0</td>\n",
              "      <td>0</td>\n",
              "      <td>0</td>\n",
              "      <td>0</td>\n",
              "      <td>0</td>\n",
              "      <td>0</td>\n",
              "      <td>0</td>\n",
              "      <td>0</td>\n",
              "      <td>0</td>\n",
              "      <td>0</td>\n",
              "      <td>0</td>\n",
              "      <td>0</td>\n",
              "      <td>0</td>\n",
              "      <td>0</td>\n",
              "      <td>0</td>\n",
              "      <td>0</td>\n",
              "      <td>0</td>\n",
              "      <td>0</td>\n",
              "      <td>0</td>\n",
              "      <td>0</td>\n",
              "      <td>0</td>\n",
              "      <td>0</td>\n",
              "      <td>0</td>\n",
              "      <td>0</td>\n",
              "      <td>0</td>\n",
              "      <td>0</td>\n",
              "      <td>0</td>\n",
              "      <td>0</td>\n",
              "      <td>0</td>\n",
              "      <td>0</td>\n",
              "      <td>0</td>\n",
              "      <td>0</td>\n",
              "      <td>1</td>\n",
              "      <td>0</td>\n",
              "      <td>0</td>\n",
              "      <td>0</td>\n",
              "    </tr>\n",
              "    <tr>\n",
              "      <th>1738</th>\n",
              "      <td>2016</td>\n",
              "      <td>0</td>\n",
              "      <td>0</td>\n",
              "      <td>0</td>\n",
              "      <td>0</td>\n",
              "      <td>0</td>\n",
              "      <td>0</td>\n",
              "      <td>0</td>\n",
              "      <td>0</td>\n",
              "      <td>0</td>\n",
              "      <td>0</td>\n",
              "      <td>0</td>\n",
              "      <td>0</td>\n",
              "      <td>0</td>\n",
              "      <td>0</td>\n",
              "      <td>0</td>\n",
              "      <td>0</td>\n",
              "      <td>0</td>\n",
              "      <td>0</td>\n",
              "      <td>0</td>\n",
              "      <td>0</td>\n",
              "      <td>0</td>\n",
              "      <td>0</td>\n",
              "      <td>0</td>\n",
              "      <td>0</td>\n",
              "      <td>0</td>\n",
              "      <td>0</td>\n",
              "      <td>0</td>\n",
              "      <td>0</td>\n",
              "      <td>0</td>\n",
              "      <td>0</td>\n",
              "      <td>0</td>\n",
              "      <td>1</td>\n",
              "      <td>0</td>\n",
              "      <td>0</td>\n",
              "      <td>0</td>\n",
              "      <td>0</td>\n",
              "      <td>0</td>\n",
              "      <td>0</td>\n",
              "      <td>0</td>\n",
              "      <td>0</td>\n",
              "      <td>0</td>\n",
              "      <td>1</td>\n",
              "      <td>0</td>\n",
              "      <td>0</td>\n",
              "      <td>0</td>\n",
              "      <td>0</td>\n",
              "      <td>0</td>\n",
              "      <td>0</td>\n",
              "      <td>0</td>\n",
              "      <td>0</td>\n",
              "      <td>0</td>\n",
              "    </tr>\n",
              "    <tr>\n",
              "      <th>2562</th>\n",
              "      <td>2014</td>\n",
              "      <td>0</td>\n",
              "      <td>0</td>\n",
              "      <td>0</td>\n",
              "      <td>0</td>\n",
              "      <td>0</td>\n",
              "      <td>0</td>\n",
              "      <td>0</td>\n",
              "      <td>0</td>\n",
              "      <td>0</td>\n",
              "      <td>0</td>\n",
              "      <td>0</td>\n",
              "      <td>0</td>\n",
              "      <td>0</td>\n",
              "      <td>0</td>\n",
              "      <td>0</td>\n",
              "      <td>0</td>\n",
              "      <td>0</td>\n",
              "      <td>0</td>\n",
              "      <td>0</td>\n",
              "      <td>0</td>\n",
              "      <td>0</td>\n",
              "      <td>0</td>\n",
              "      <td>1</td>\n",
              "      <td>0</td>\n",
              "      <td>0</td>\n",
              "      <td>0</td>\n",
              "      <td>0</td>\n",
              "      <td>0</td>\n",
              "      <td>0</td>\n",
              "      <td>0</td>\n",
              "      <td>0</td>\n",
              "      <td>0</td>\n",
              "      <td>0</td>\n",
              "      <td>0</td>\n",
              "      <td>0</td>\n",
              "      <td>0</td>\n",
              "      <td>0</td>\n",
              "      <td>0</td>\n",
              "      <td>0</td>\n",
              "      <td>0</td>\n",
              "      <td>0</td>\n",
              "      <td>0</td>\n",
              "      <td>0</td>\n",
              "      <td>0</td>\n",
              "      <td>0</td>\n",
              "      <td>1</td>\n",
              "      <td>0</td>\n",
              "      <td>0</td>\n",
              "      <td>0</td>\n",
              "      <td>0</td>\n",
              "      <td>0</td>\n",
              "    </tr>\n",
              "  </tbody>\n",
              "</table>\n",
              "</div>"
            ],
            "text/plain": [
              "       año  Accidentes de transporte  ...  80 y más  Menor de 1 año\n",
              "2606  2016                         0  ...         0               0\n",
              "3495  2016                         0  ...         1               0\n",
              "2914  2011                         0  ...         0               0\n",
              "1738  2016                         0  ...         0               0\n",
              "2562  2014                         0  ...         0               0\n",
              "\n",
              "[5 rows x 52 columns]"
            ]
          },
          "metadata": {
            "tags": []
          },
          "execution_count": 393
        }
      ]
    },
    {
      "cell_type": "code",
      "metadata": {
        "colab_type": "code",
        "outputId": "388cbb30-0ce4-409f-e5b9-a69ec6ea08af",
        "id": "3ycTfcWZDKDW",
        "colab": {
          "base_uri": "https://localhost:8080/",
          "height": 34
        }
      },
      "source": [
        "# auto scaling train- set (mean = 0, std = 1)\n",
        "scaler = preprocessing.StandardScaler().fit(xtrain)\n",
        "scaler"
      ],
      "execution_count": 0,
      "outputs": [
        {
          "output_type": "execute_result",
          "data": {
            "text/plain": [
              "StandardScaler(copy=True, with_mean=True, with_std=True)"
            ]
          },
          "metadata": {
            "tags": []
          },
          "execution_count": 394
        }
      ]
    },
    {
      "cell_type": "code",
      "metadata": {
        "colab_type": "code",
        "id": "kkMmtyIRDKDM",
        "colab": {}
      },
      "source": [
        "# auto scalo mis muestras de train utilizando el scaler fiteado con el xtrain\n",
        "xtrain_scal = scaler.transform(xtrain)"
      ],
      "execution_count": 0,
      "outputs": []
    },
    {
      "cell_type": "code",
      "metadata": {
        "colab_type": "code",
        "id": "3xyBl9KiDKC7",
        "colab": {}
      },
      "source": [
        "# auto scalo mis muestras de test utilizando el scaler fiteado con el xtrain\n",
        "xtest_scal = scaler.transform(xtest)"
      ],
      "execution_count": 0,
      "outputs": []
    },
    {
      "cell_type": "markdown",
      "metadata": {
        "id": "gZDnENDsoVBZ",
        "colab_type": "text"
      },
      "source": [
        "# **Realizamos un PCA con el set de entrenamiento**\n"
      ]
    },
    {
      "cell_type": "code",
      "metadata": {
        "id": "5xfLfSweWCcM",
        "colab_type": "code",
        "outputId": "ec89d2af-dd31-4c9d-c021-4081e31f94cb",
        "colab": {
          "base_uri": "https://localhost:8080/",
          "height": 309
        }
      },
      "source": [
        "from sklearn.decomposition import PCA\n",
        "# cantidad de componentes a extraer\n",
        "n_comps = 10\n",
        "# definimos PCA\n",
        "pca = PCA(n_components= n_comps)\n",
        "# fit_transform del PCA a nuestros datos\n",
        "xpca = pd.DataFrame(pca.fit_transform(xtrain_scal))\n",
        "# obtenemos los auto-valores\n",
        "eigenvalues = pca.explained_variance_ratio_\n",
        "\n",
        "components = range(1,n_comps + 1)\n",
        "plt.bar(components,eigenvalues)\n",
        "plt.xticks(components)\n",
        "plt.title('Explained variance of top 10 principal components')\n",
        "plt.xlabel('Top 10 Principal Components')\n",
        "plt.ylabel('Explained Variance')\n",
        "plt.show()"
      ],
      "execution_count": 0,
      "outputs": [
        {
          "output_type": "display_data",
          "data": {
            "image/png": "[encoded data removed]",
            "text/plain": [
              "<Figure size 432x288 with 1 Axes>"
            ]
          },
          "metadata": {
            "tags": []
          }
        }
      ]
    },
    {
      "cell_type": "code",
      "metadata": {
        "id": "xPOKfx4HWV6C",
        "colab_type": "code",
        "outputId": "e7cce531-71e8-419e-c98c-acd2a430c213",
        "colab": {
          "base_uri": "https://localhost:8080/",
          "height": 416
        }
      },
      "source": [
        "sns.set_context(\"talk\", font_scale=0.7)\n",
        "plt.figure(figsize=(9,6))\n",
        "quantil = df_train.cantidad_de_defunciones.quantile(0.50)\n",
        "plt.scatter(xpca.loc[(ytrain < quantil).ravel(),0],xpca.loc[(ytrain < quantil).ravel(),1], alpha = 0.7, label = 'Menos de ' + str(int(np.round(quantil))) + ' muertes')\n",
        "plt.scatter(xpca.loc[(ytrain > quantil).ravel(),0],xpca.loc[(ytrain > quantil).ravel(),1], alpha = 0.7, label = 'Más de ' + str(int(np.round(quantil))) + ' muertes')\n",
        "plt.xlabel('Principal Component 1 , Explainded Variance = ' + str(np.round(eigenvalues[0],2)))\n",
        "plt.ylabel('Principal Component 2 , Explainded Variance = ' + str(np.round(eigenvalues[1],2)))\n",
        "plt.title('Principal Component Analysis')\n",
        "plt.legend(loc='upper right')\n",
        "plt.show()"
      ],
      "execution_count": 0,
      "outputs": [
        {
          "output_type": "display_data",
          "data": {
            "image/png": "[encoded data removed]",
            "text/plain": [
              "<Figure size 648x432 with 1 Axes>"
            ]
          },
          "metadata": {
            "tags": []
          }
        }
      ]
    },
    {
      "cell_type": "code",
      "metadata": {
        "id": "lRWmuDTdlTUS",
        "colab_type": "code",
        "outputId": "ec547766-5a90-4ae6-b851-12f440463fa3",
        "colab": {
          "base_uri": "https://localhost:8080/",
          "height": 248
        }
      },
      "source": [
        "from mpl_toolkits.mplot3d import Axes3D\n",
        "fig = plt.figure()\n",
        "ax = fig.add_subplot(111, projection='3d')\n",
        "ax.scatter(xpca.iloc[(ytrain < quantil).ravel(),0], xpca.iloc[(ytrain < quantil).ravel(),1], xpca.iloc[(ytrain < quantil).ravel(),2])\n",
        "ax.scatter(xpca.iloc[(ytrain > quantil).ravel(),0], xpca.iloc[(ytrain > quantil).ravel(),1], xpca.iloc[(ytrain > quantil).ravel(),2])\n",
        "ax.set_xlabel('P. Comp. 1')\n",
        "ax.set_ylabel('P. Comp. 2')\n",
        "ax.set_zlabel('P. Comp. 3')\n",
        "plt.show()"
      ],
      "execution_count": 0,
      "outputs": [
        {
          "output_type": "display_data",
          "data": {
            "image/png": "[encoded data removed]",
            "text/plain": [
              "<Figure size 432x288 with 1 Axes>"
            ]
          },
          "metadata": {
            "tags": []
          }
        }
      ]
    },
    {
      "cell_type": "markdown",
      "metadata": {
        "colab_type": "text",
        "id": "iVt4U5L2DKCy"
      },
      "source": [
        "\n",
        "\n",
        "---\n",
        "\n",
        "\n",
        "# **PROBAMOS UN SVR**\n",
        "\n",
        "\n"
      ]
    },
    {
      "cell_type": "code",
      "metadata": {
        "colab_type": "code",
        "id": "hERpPchUDKCd",
        "colab": {}
      },
      "source": [
        "# creo un modelo de SVR\n",
        "svreg = SVR()"
      ],
      "execution_count": 0,
      "outputs": []
    },
    {
      "cell_type": "code",
      "metadata": {
        "colab_type": "code",
        "id": "Iq7mBmWnDKCH",
        "colab": {}
      },
      "source": [
        "# cantidad de folds para el cross validation\n",
        "n_folds = 5"
      ],
      "execution_count": 0,
      "outputs": []
    },
    {
      "cell_type": "code",
      "metadata": {
        "colab_type": "code",
        "id": "CjHm2WGcDKBm",
        "colab": {}
      },
      "source": [
        "# Distintos hiper parametros a probar en grid search (pruebo gridsearch por kernels separados)\n",
        "#parameters_svr_lin = [{'kernel':['linear'], 'C': [1, 100]}]\n",
        "\n",
        "#parameters_svr_rbf = [{'kernel':['rbf'] , 'C': [1,100],'gamma': [0.1,0.5] }]\n",
        "\n",
        "parameters_svr = [{'kernel':('linear', 'rbf'),'C': [1,100],'gamma': [0.1,0.5] }]\n",
        "\n",
        "#parameters_svr = {'kernel':('linear', 'rbf'), 'C':[1000], 'gamma':[100]}"
      ],
      "execution_count": 0,
      "outputs": []
    },
    {
      "cell_type": "code",
      "metadata": {
        "id": "jTrvqLgUhvmZ",
        "colab_type": "code",
        "colab": {}
      },
      "source": [
        "regresor_svr = GridSearchCV(svreg, parameters_svr, cv=n_folds, refit=True, verbose=True)"
      ],
      "execution_count": 0,
      "outputs": []
    },
    {
      "cell_type": "code",
      "metadata": {
        "id": "ZUoMWTNthzMv",
        "colab_type": "code",
        "outputId": "f4169173-255d-4d35-f5c6-3081038c7cd5",
        "colab": {
          "base_uri": "https://localhost:8080/",
          "height": 238
        }
      },
      "source": [
        "# entreno modelo regresor con mi set de entrenamiento (tanto Xtrain como Ytrain)\n",
        "regresor_svr.fit(xtrain_scal, ytrain.ravel())"
      ],
      "execution_count": 0,
      "outputs": [
        {
          "output_type": "stream",
          "text": [
            "Fitting 5 folds for each of 8 candidates, totalling 40 fits\n"
          ],
          "name": "stdout"
        },
        {
          "output_type": "stream",
          "text": [
            "[Parallel(n_jobs=1)]: Using backend SequentialBackend with 1 concurrent workers.\n",
            "[Parallel(n_jobs=1)]: Done  40 out of  40 | elapsed:  1.6min finished\n"
          ],
          "name": "stderr"
        },
        {
          "output_type": "execute_result",
          "data": {
            "text/plain": [
              "GridSearchCV(cv=5, error_score='raise-deprecating',\n",
              "             estimator=SVR(C=1.0, cache_size=200, coef0=0.0, degree=3,\n",
              "                           epsilon=0.1, gamma='auto_deprecated', kernel='rbf',\n",
              "                           max_iter=-1, shrinking=True, tol=0.001,\n",
              "                           verbose=False),\n",
              "             iid='warn', n_jobs=None,\n",
              "             param_grid=[{'C': [1, 100], 'gamma': [0.1, 0.5],\n",
              "                          'kernel': ('linear', 'rbf')}],\n",
              "             pre_dispatch='2*n_jobs', refit=True, return_train_score=False,\n",
              "             scoring=None, verbose=True)"
            ]
          },
          "metadata": {
            "tags": []
          },
          "execution_count": 404
        }
      ]
    },
    {
      "cell_type": "code",
      "metadata": {
        "id": "qScfRz8wh6Qg",
        "colab_type": "code",
        "outputId": "c45167b4-3b96-44e3-c9c1-27da902b3d09",
        "colab": {
          "base_uri": "https://localhost:8080/",
          "height": 34
        }
      },
      "source": [
        "# vemos cuales son los mejores parametros luego del cross validation\n",
        "regresor_svr.best_params_"
      ],
      "execution_count": 0,
      "outputs": [
        {
          "output_type": "execute_result",
          "data": {
            "text/plain": [
              "{'C': 100, 'gamma': 0.1, 'kernel': 'linear'}"
            ]
          },
          "metadata": {
            "tags": []
          },
          "execution_count": 405
        }
      ]
    },
    {
      "cell_type": "code",
      "metadata": {
        "id": "aANj_Ki3x0sk",
        "colab_type": "code",
        "outputId": "7138ed26-c687-414b-9707-d841954afca3",
        "colab": {
          "base_uri": "https://localhost:8080/",
          "height": 34
        }
      },
      "source": [
        "regresor_svr.best_score_"
      ],
      "execution_count": 0,
      "outputs": [
        {
          "output_type": "execute_result",
          "data": {
            "text/plain": [
              "0.06702647916885941"
            ]
          },
          "metadata": {
            "tags": []
          },
          "execution_count": 406
        }
      ]
    },
    {
      "cell_type": "code",
      "metadata": {
        "id": "UhEBI4e7x4mk",
        "colab_type": "code",
        "outputId": "4174eb53-64d3-4587-c3bc-ffdf6107bb6f",
        "colab": {
          "base_uri": "https://localhost:8080/",
          "height": 187
        }
      },
      "source": [
        "ypred3 = regresor_svr.predict(xtest_scal)\n",
        "ypred3"
      ],
      "execution_count": 0,
      "outputs": [
        {
          "output_type": "execute_result",
          "data": {
            "text/plain": [
              "array([  83.56608667, 1290.56696036,  -59.96278491,  716.23136608,\n",
              "        322.8323178 ,   72.30078119,  223.63267165,  597.03694618,\n",
              "         19.23241864,   46.83174742,  280.8333918 ,  231.16626531,\n",
              "       1273.96640277,   80.70247919,   71.50387879,  385.49975703,\n",
              "         47.0983982 ,  430.09816883,  448.36584079,  118.29734089,\n",
              "        293.57180672,  515.49563424,  -30.09773392,  107.83302128,\n",
              "          6.03304856,  448.63249156,   59.76459942,   95.03140191,\n",
              "        122.29622335,  251.03331977,  158.36170796,   70.62990766,\n",
              "         -3.90049827,  120.3653663 ,   38.50237286,   45.03446084,\n",
              "         70.0333975 ,  162.10213677])"
            ]
          },
          "metadata": {
            "tags": []
          },
          "execution_count": 407
        }
      ]
    },
    {
      "cell_type": "code",
      "metadata": {
        "id": "H_emJH-cyBOD",
        "colab_type": "code",
        "outputId": "05bb6c85-e627-4791-e4ff-aa977e8a29d6",
        "colab": {
          "base_uri": "https://localhost:8080/",
          "height": 34
        }
      },
      "source": [
        "# computo RMSE (root mean squared error) -> cuando le doy importancia a grandes errores\n",
        "np.sqrt(mean_squared_error(ytest, ypred3))"
      ],
      "execution_count": 0,
      "outputs": [
        {
          "output_type": "execute_result",
          "data": {
            "text/plain": [
              "657.144569812733"
            ]
          },
          "metadata": {
            "tags": []
          },
          "execution_count": 408
        }
      ]
    },
    {
      "cell_type": "code",
      "metadata": {
        "id": "u5_Nc1_hyRsA",
        "colab_type": "code",
        "outputId": "b7f2585a-aadf-4499-b41c-d6e319b26a7e",
        "colab": {
          "base_uri": "https://localhost:8080/",
          "height": 34
        }
      },
      "source": [
        "# computo MAE (mean absolute error)\n",
        "mean_absolute_error(ytest, ypred3)"
      ],
      "execution_count": 0,
      "outputs": [
        {
          "output_type": "execute_result",
          "data": {
            "text/plain": [
              "282.65057388934974"
            ]
          },
          "metadata": {
            "tags": []
          },
          "execution_count": 409
        }
      ]
    },
    {
      "cell_type": "code",
      "metadata": {
        "id": "PQeYNVUSQ-hs",
        "colab_type": "code",
        "outputId": "38ef632c-e19f-481d-b5af-d23d62420180",
        "colab": {
          "base_uri": "https://localhost:8080/",
          "height": 34
        }
      },
      "source": [
        "print(regresor_svr.score(xtest_scal,ytest.ravel())) #obtenemos el promedio de la accuracy"
      ],
      "execution_count": 0,
      "outputs": [
        {
          "output_type": "stream",
          "text": [
            "0.22535230158512842\n"
          ],
          "name": "stdout"
        }
      ]
    },
    {
      "cell_type": "code",
      "metadata": {
        "id": "pQObZyXZRpNL",
        "colab_type": "code",
        "outputId": "3ec0a40e-e6ef-4020-f127-33242c69e7a7",
        "colab": {
          "base_uri": "https://localhost:8080/",
          "height": 274
        }
      },
      "source": [
        "# visualiza el rango de valores de las etiquetas de test y las predecidas\n",
        "sns.distplot(ytest)\n",
        "sns.distplot(ypred3)\n",
        "plt.show()"
      ],
      "execution_count": 0,
      "outputs": [
        {
          "output_type": "display_data",
          "data": {
            "image/png": "[encoded data removed]",
            "text/plain": [
              "<Figure size 432x288 with 1 Axes>"
            ]
          },
          "metadata": {
            "tags": []
          }
        }
      ]
    },
    {
      "cell_type": "markdown",
      "metadata": {
        "id": "MMQXshhMzwAw",
        "colab_type": "text"
      },
      "source": [
        "\n",
        "\n",
        "---\n",
        "# **Probamos un modelo de Regresion Lineal**\n"
      ]
    },
    {
      "cell_type": "code",
      "metadata": {
        "id": "Y7zEhC3wyUQe",
        "colab_type": "code",
        "colab": {}
      },
      "source": [
        "# 1) creo un modelo generico de regresion lineal\n",
        "lr = LinearRegression()"
      ],
      "execution_count": 0,
      "outputs": []
    },
    {
      "cell_type": "code",
      "metadata": {
        "id": "L0LojgKfz4xn",
        "colab_type": "code",
        "outputId": "b319c75d-ee9a-496c-d526-0fbfd0964a92",
        "colab": {
          "base_uri": "https://localhost:8080/",
          "height": 34
        }
      },
      "source": [
        "# 2) Ajusto el modelo de regresion lineal utilizando el set de train, tanto las features X como las samples Y\n",
        "lr.fit(xtrain_scal, ytrain)"
      ],
      "execution_count": 0,
      "outputs": [
        {
          "output_type": "execute_result",
          "data": {
            "text/plain": [
              "LinearRegression(copy_X=True, fit_intercept=True, n_jobs=None, normalize=False)"
            ]
          },
          "metadata": {
            "tags": []
          },
          "execution_count": 413
        }
      ]
    },
    {
      "cell_type": "code",
      "metadata": {
        "id": "YDRkpyOhz6pJ",
        "colab_type": "code",
        "colab": {}
      },
      "source": [
        "# 3) Obtengo las predicciones que realiza mi modelo con las muestras de test, sin mostrarle las labels (Ytest)\n",
        "# las predicciones las guardo en el vector \"ypred\"\n",
        "ypred = lr.predict(xtest_scal)"
      ],
      "execution_count": 0,
      "outputs": []
    },
    {
      "cell_type": "code",
      "metadata": {
        "id": "bHDUgcXaz832",
        "colab_type": "code",
        "outputId": "579eb809-8412-4ad8-b82b-39c7dda46859",
        "colab": {
          "base_uri": "https://localhost:8080/",
          "height": 34
        }
      },
      "source": [
        "np.shape(ypred)"
      ],
      "execution_count": 0,
      "outputs": [
        {
          "output_type": "execute_result",
          "data": {
            "text/plain": [
              "(38, 1)"
            ]
          },
          "metadata": {
            "tags": []
          },
          "execution_count": 415
        }
      ]
    },
    {
      "cell_type": "code",
      "metadata": {
        "id": "D4x81J04z-8k",
        "colab_type": "code",
        "outputId": "4424958b-3f14-4a97-fc8e-3aa02531351f",
        "colab": {
          "base_uri": "https://localhost:8080/",
          "height": 663
        }
      },
      "source": [
        "ypred"
      ],
      "execution_count": 0,
      "outputs": [
        {
          "output_type": "execute_result",
          "data": {
            "text/plain": [
              "array([[-4.01767651e+02],\n",
              "       [ 3.11023235e+03],\n",
              "       [-1.06376765e+03],\n",
              "       [ 4.91623235e+03],\n",
              "       [ 1.15823235e+03],\n",
              "       [-5.87767651e+02],\n",
              "       [ 1.62323488e+01],\n",
              "       [ 3.00823235e+03],\n",
              "       [-4.37767651e+02],\n",
              "       [ 2.84232349e+02],\n",
              "       [ 3.01623235e+03],\n",
              "       [ 8.02323488e+01],\n",
              "       [ 3.00123235e+03],\n",
              "       [-4.61767651e+02],\n",
              "       [-4.23767651e+02],\n",
              "       [ 7.94232349e+02],\n",
              "       [ 2.88232349e+02],\n",
              "       [ 9.90232349e+02],\n",
              "       [ 1.07423235e+03],\n",
              "       [-3.76767651e+02],\n",
              "       [ 3.52423235e+03],\n",
              "       [ 2.03823235e+03],\n",
              "       [-6.57767651e+02],\n",
              "       [ 6.18232349e+02],\n",
              "       [-5.17767651e+02],\n",
              "       [ 1.08223235e+03],\n",
              "       [ 1.08232349e+02],\n",
              "       [ 5.94232349e+02],\n",
              "       [-3.85767651e+02],\n",
              "       [ 1.06023235e+03],\n",
              "       [ 7.14232349e+02],\n",
              "       [ 6.90232349e+02],\n",
              "       [-4.14767651e+02],\n",
              "       [ 1.10232349e+02],\n",
              "       [-2.31767651e+02],\n",
              "       [-2.99767651e+02],\n",
              "       [-2.08015116e+00],\n",
              "       [ 7.26419849e+02]])"
            ]
          },
          "metadata": {
            "tags": []
          },
          "execution_count": 416
        }
      ]
    },
    {
      "cell_type": "code",
      "metadata": {
        "id": "KGU25x790ZCn",
        "colab_type": "code",
        "outputId": "e583e9d3-eb36-423a-a89e-abc24e80e445",
        "colab": {
          "base_uri": "https://localhost:8080/",
          "height": 34
        }
      },
      "source": [
        "# calculo el error de mi modelo con las muestras de train = error de train\n",
        "np.sqrt(mean_squared_error(ytest, ypred))"
      ],
      "execution_count": 0,
      "outputs": [
        {
          "output_type": "execute_result",
          "data": {
            "text/plain": [
              "1122.6867488056002"
            ]
          },
          "metadata": {
            "tags": []
          },
          "execution_count": 417
        }
      ]
    },
    {
      "cell_type": "code",
      "metadata": {
        "id": "G0RpFkQ-0dw8",
        "colab_type": "code",
        "outputId": "bc44457d-a949-4feb-ab83-4b04fd57907d",
        "colab": {
          "base_uri": "https://localhost:8080/",
          "height": 34
        }
      },
      "source": [
        "mean_squared_error(ytest, ypred)"
      ],
      "execution_count": 0,
      "outputs": [
        {
          "output_type": "execute_result",
          "data": {
            "text/plain": [
              "1260425.5359436888"
            ]
          },
          "metadata": {
            "tags": []
          },
          "execution_count": 418
        }
      ]
    },
    {
      "cell_type": "code",
      "metadata": {
        "id": "SQKPrlKn0hKA",
        "colab_type": "code",
        "outputId": "910822c2-9663-4297-97d6-33f0ce44302c",
        "colab": {
          "base_uri": "https://localhost:8080/",
          "height": 34
        }
      },
      "source": [
        "mean_absolute_error(ytest, ypred)"
      ],
      "execution_count": 0,
      "outputs": [
        {
          "output_type": "execute_result",
          "data": {
            "text/plain": [
              "786.4727552018479"
            ]
          },
          "metadata": {
            "tags": []
          },
          "execution_count": 419
        }
      ]
    },
    {
      "cell_type": "code",
      "metadata": {
        "id": "hzQ9GEa6tE_x",
        "colab_type": "code",
        "outputId": "b75abbc1-38e7-4f9e-b856-977a712cd34a",
        "colab": {
          "base_uri": "https://localhost:8080/",
          "height": 274
        }
      },
      "source": [
        "# visualiza el rango de valores de las etiquetas de test y las predecidas\n",
        "sns.distplot(ytest)\n",
        "sns.distplot(ypred)\n",
        "plt.show()"
      ],
      "execution_count": 0,
      "outputs": [
        {
          "output_type": "display_data",
          "data": {
            "image/png": "[encoded data removed]",
            "text/plain": [
              "<Figure size 432x288 with 1 Axes>"
            ]
          },
          "metadata": {
            "tags": []
          }
        }
      ]
    },
    {
      "cell_type": "markdown",
      "metadata": {
        "id": "4C8VPQv4FuS8",
        "colab_type": "text"
      },
      "source": [
        "# **Probamos un modelo KNN**"
      ]
    },
    {
      "cell_type": "code",
      "metadata": {
        "id": "cD1PgJit0miU",
        "colab_type": "code",
        "outputId": "78294e39-89a3-4c61-bc46-4df0c359fbe7",
        "colab": {
          "base_uri": "https://localhost:8080/",
          "height": 238
        }
      },
      "source": [
        "neigh = KNeighborsRegressor(weights = \"distance\")\n",
        "#parameters_k = np.arange(20,31,5)\n",
        "parameters_k = np.arange(2,11,1)\n",
        "parameters_knn = [{'n_neighbors': parameters_k}]\n",
        "# indico la cantidad de folds que quiero utilizar en mi training para cross validation\n",
        "n_folds = 5\n",
        "# creo un modelo que contiene, el regresor a utilizar, la grilla de parametros a probar\n",
        "# y la cantidad de folds para el cross validation\n",
        "regresor_neigh = GridSearchCV(neigh, parameters_knn, refit = True, cv=n_folds, verbose=True)\n",
        "# entreno modelo regresor con mi set de entrenamiento (tanto Xtrain como Ytrain)\n",
        "regresor_neigh.fit(xtrain_scal, ytrain)"
      ],
      "execution_count": 0,
      "outputs": [
        {
          "output_type": "stream",
          "text": [
            "Fitting 5 folds for each of 9 candidates, totalling 45 fits\n"
          ],
          "name": "stdout"
        },
        {
          "output_type": "stream",
          "text": [
            "[Parallel(n_jobs=1)]: Using backend SequentialBackend with 1 concurrent workers.\n",
            "[Parallel(n_jobs=1)]: Done  45 out of  45 | elapsed:    8.9s finished\n"
          ],
          "name": "stderr"
        },
        {
          "output_type": "execute_result",
          "data": {
            "text/plain": [
              "GridSearchCV(cv=5, error_score='raise-deprecating',\n",
              "             estimator=KNeighborsRegressor(algorithm='auto', leaf_size=30,\n",
              "                                           metric='minkowski',\n",
              "                                           metric_params=None, n_jobs=None,\n",
              "                                           n_neighbors=5, p=2,\n",
              "                                           weights='distance'),\n",
              "             iid='warn', n_jobs=None,\n",
              "             param_grid=[{'n_neighbors': array([ 2,  3,  4,  5,  6,  7,  8,  9, 10])}],\n",
              "             pre_dispatch='2*n_jobs', refit=True, return_train_score=False,\n",
              "             scoring=None, verbose=True)"
            ]
          },
          "metadata": {
            "tags": []
          },
          "execution_count": 421
        }
      ]
    },
    {
      "cell_type": "code",
      "metadata": {
        "id": "FWw6navv28md",
        "colab_type": "code",
        "outputId": "504fb70c-83b1-4911-dccb-03ca260aa94f",
        "colab": {
          "base_uri": "https://localhost:8080/",
          "height": 34
        }
      },
      "source": [
        "# observo cual fue el parametro que \"gano\" en el cross validation y grid search\n",
        "regresor_neigh.best_params_"
      ],
      "execution_count": 0,
      "outputs": [
        {
          "output_type": "execute_result",
          "data": {
            "text/plain": [
              "{'n_neighbors': 2}"
            ]
          },
          "metadata": {
            "tags": []
          },
          "execution_count": 422
        }
      ]
    },
    {
      "cell_type": "code",
      "metadata": {
        "id": "2SmR2m5iHFmG",
        "colab_type": "code",
        "outputId": "6f852946-e4a5-4f79-ca4e-8ed94f072967",
        "colab": {
          "base_uri": "https://localhost:8080/",
          "height": 34
        }
      },
      "source": [
        "# calcula el R2\n",
        "regresor_neigh.best_score_"
      ],
      "execution_count": 0,
      "outputs": [
        {
          "output_type": "execute_result",
          "data": {
            "text/plain": [
              "0.9965142692505409"
            ]
          },
          "metadata": {
            "tags": []
          },
          "execution_count": 423
        }
      ]
    },
    {
      "cell_type": "code",
      "metadata": {
        "id": "Kj2b1ZULHH5M",
        "colab_type": "code",
        "colab": {}
      },
      "source": [
        "# realizo con mi modelo entrenado, predicciones de Y (ypred) utilizando solo xtest\n",
        "ypred2 = regresor_neigh.predict(xtest_scal)\n",
        "#ypred2.astype(int)"
      ],
      "execution_count": 0,
      "outputs": []
    },
    {
      "cell_type": "code",
      "metadata": {
        "id": "FLn0qT6IHKPG",
        "colab_type": "code",
        "outputId": "bca258d1-1e60-48e9-b778-ac778f817ed5",
        "colab": {
          "base_uri": "https://localhost:8080/",
          "height": 34
        }
      },
      "source": [
        "# computo la raiz cuadrada del error cuadratico medio entre ytest (etiqueta real) vs ypred (etiqueta estimada por el modelo)\n",
        "np.sqrt(mean_squared_error(ytest, ypred2))"
      ],
      "execution_count": 0,
      "outputs": [
        {
          "output_type": "execute_result",
          "data": {
            "text/plain": [
              "37.22908799266531"
            ]
          },
          "metadata": {
            "tags": []
          },
          "execution_count": 425
        }
      ]
    },
    {
      "cell_type": "code",
      "metadata": {
        "id": "Ow73L0xVHMgS",
        "colab_type": "code",
        "outputId": "a4e2ebfb-4d28-4600-b15f-1ad4c75be8b5",
        "colab": {
          "base_uri": "https://localhost:8080/",
          "height": 274
        }
      },
      "source": [
        "# visualiza el rango de valores de las etiquetas de test y las predecidas\n",
        "sns.distplot(ytest)\n",
        "sns.distplot(ypred2)\n",
        "#sns.distplot(np.log(1+ytest))\n",
        "#sns.distplot(np.log(1+ypred2))   \n",
        "plt.show()"
      ],
      "execution_count": 0,
      "outputs": [
        {
          "output_type": "display_data",
          "data": {
            "image/png": "[encoded data removed]",
            "text/plain": [
              "<Figure size 432x288 with 1 Axes>"
            ]
          },
          "metadata": {
            "tags": []
          }
        }
      ]
    },
    {
      "cell_type": "code",
      "metadata": {
        "id": "iTWvKlL7Dgvs",
        "colab_type": "code",
        "outputId": "f920288b-9851-4835-c1f3-e9d0765e9785",
        "colab": {
          "base_uri": "https://localhost:8080/",
          "height": 394
        }
      },
      "source": [
        "xtrain.head()"
      ],
      "execution_count": 0,
      "outputs": [
        {
          "output_type": "execute_result",
          "data": {
            "text/html": [
              "<div>\n",
              "<style scoped>\n",
              "    .dataframe tbody tr th:only-of-type {\n",
              "        vertical-align: middle;\n",
              "    }\n",
              "\n",
              "    .dataframe tbody tr th {\n",
              "        vertical-align: top;\n",
              "    }\n",
              "\n",
              "    .dataframe thead th {\n",
              "        text-align: right;\n",
              "    }\n",
              "</style>\n",
              "<table border=\"1\" class=\"dataframe\">\n",
              "  <thead>\n",
              "    <tr style=\"text-align: right;\">\n",
              "      <th></th>\n",
              "      <th>año</th>\n",
              "      <th>Accidentes de transporte</th>\n",
              "      <th>Agresiones</th>\n",
              "      <th>Ciertas afecciones originadas en el periodo neonatal</th>\n",
              "      <th>Ciertas enfermedades infecciosas y parasitarias</th>\n",
              "      <th>Complicaciones de la atención médica y quirúrgica</th>\n",
              "      <th>Contacto traumático con animales y plantas venesosas</th>\n",
              "      <th>Embarazo, parto y puerperio</th>\n",
              "      <th>Enfermedades de la piel y el tejido subcutáneo</th>\n",
              "      <th>Enfermedades de la sangre y de los órganos hematopoyéticos y ciertos trastornos que afectan el mecanismo de la inmunidad</th>\n",
              "      <th>Enfermedades del ojo y sus anexos</th>\n",
              "      <th>Enfermedades del oído y de la apófisis mastoides</th>\n",
              "      <th>Enfermedades del sistema circulatorio</th>\n",
              "      <th>Enfermedades del sistema digestivo</th>\n",
              "      <th>Enfermedades del sistema genitourinario</th>\n",
              "      <th>Enfermedades del sistema nervioso</th>\n",
              "      <th>Enfermedades del sistema osteomuscular y del tejido conjuntivo</th>\n",
              "      <th>Enfermedades del sistema respiratorio</th>\n",
              "      <th>Enfermedades endócrinas, nutricionales y metabólicas</th>\n",
              "      <th>Envenenamiento accidental por exposición a sustancias nocivas</th>\n",
              "      <th>Eventos de intención no determinada</th>\n",
              "      <th>Exceso de esfuerzo, viajes y privación</th>\n",
              "      <th>Exposición a fuerzas de la naturaleza</th>\n",
              "      <th>Exposición accidental a otros factores y a los no especificados</th>\n",
              "      <th>Exposición al fuego, humo y llamas</th>\n",
              "      <th>Infecciones virales caracterizadas por lesiones de la piel y de la membranas mucosas</th>\n",
              "      <th>Intervención legal y operaciones de guerra</th>\n",
              "      <th>Lesiones autoinflingidas intencionalmente</th>\n",
              "      <th>Malformaciones congénitas</th>\n",
              "      <th>Otras causas externas de traumatismos accidentales</th>\n",
              "      <th>Secuelas de causas externas de morbilidad y mortalidad</th>\n",
              "      <th>Sintomas, signos y hallazgos anormales clinicos y de laboratorio no clasificados en otra parte</th>\n",
              "      <th>Trastornos mentales y del comportamiento</th>\n",
              "      <th>Tumores (neoplasias)</th>\n",
              "      <th>Tumores (neoplasias) malignos</th>\n",
              "      <th>1 a 9</th>\n",
              "      <th>10 a 14</th>\n",
              "      <th>15 a 19</th>\n",
              "      <th>20 a 24</th>\n",
              "      <th>25 a 29</th>\n",
              "      <th>30 a 34</th>\n",
              "      <th>35 a 39</th>\n",
              "      <th>40 a 44</th>\n",
              "      <th>45 a 49</th>\n",
              "      <th>50 a 54</th>\n",
              "      <th>55 a 59</th>\n",
              "      <th>60 a 64</th>\n",
              "      <th>65 a 69</th>\n",
              "      <th>70 a 74</th>\n",
              "      <th>75 a 79</th>\n",
              "      <th>80 y más</th>\n",
              "      <th>Menor de 1 año</th>\n",
              "    </tr>\n",
              "  </thead>\n",
              "  <tbody>\n",
              "    <tr>\n",
              "      <th>2606</th>\n",
              "      <td>2016</td>\n",
              "      <td>0</td>\n",
              "      <td>0</td>\n",
              "      <td>0</td>\n",
              "      <td>0</td>\n",
              "      <td>0</td>\n",
              "      <td>0</td>\n",
              "      <td>0</td>\n",
              "      <td>1</td>\n",
              "      <td>0</td>\n",
              "      <td>0</td>\n",
              "      <td>0</td>\n",
              "      <td>0</td>\n",
              "      <td>0</td>\n",
              "      <td>0</td>\n",
              "      <td>0</td>\n",
              "      <td>0</td>\n",
              "      <td>0</td>\n",
              "      <td>0</td>\n",
              "      <td>0</td>\n",
              "      <td>0</td>\n",
              "      <td>0</td>\n",
              "      <td>0</td>\n",
              "      <td>0</td>\n",
              "      <td>0</td>\n",
              "      <td>0</td>\n",
              "      <td>0</td>\n",
              "      <td>0</td>\n",
              "      <td>0</td>\n",
              "      <td>0</td>\n",
              "      <td>0</td>\n",
              "      <td>0</td>\n",
              "      <td>0</td>\n",
              "      <td>0</td>\n",
              "      <td>0</td>\n",
              "      <td>0</td>\n",
              "      <td>0</td>\n",
              "      <td>0</td>\n",
              "      <td>0</td>\n",
              "      <td>0</td>\n",
              "      <td>0</td>\n",
              "      <td>0</td>\n",
              "      <td>0</td>\n",
              "      <td>0</td>\n",
              "      <td>0</td>\n",
              "      <td>0</td>\n",
              "      <td>1</td>\n",
              "      <td>0</td>\n",
              "      <td>0</td>\n",
              "      <td>0</td>\n",
              "      <td>0</td>\n",
              "      <td>0</td>\n",
              "    </tr>\n",
              "    <tr>\n",
              "      <th>3495</th>\n",
              "      <td>2016</td>\n",
              "      <td>0</td>\n",
              "      <td>0</td>\n",
              "      <td>0</td>\n",
              "      <td>0</td>\n",
              "      <td>0</td>\n",
              "      <td>0</td>\n",
              "      <td>0</td>\n",
              "      <td>0</td>\n",
              "      <td>1</td>\n",
              "      <td>0</td>\n",
              "      <td>0</td>\n",
              "      <td>0</td>\n",
              "      <td>0</td>\n",
              "      <td>0</td>\n",
              "      <td>0</td>\n",
              "      <td>0</td>\n",
              "      <td>0</td>\n",
              "      <td>0</td>\n",
              "      <td>0</td>\n",
              "      <td>0</td>\n",
              "      <td>0</td>\n",
              "      <td>0</td>\n",
              "      <td>0</td>\n",
              "      <td>0</td>\n",
              "      <td>0</td>\n",
              "      <td>0</td>\n",
              "      <td>0</td>\n",
              "      <td>0</td>\n",
              "      <td>0</td>\n",
              "      <td>0</td>\n",
              "      <td>0</td>\n",
              "      <td>0</td>\n",
              "      <td>0</td>\n",
              "      <td>0</td>\n",
              "      <td>0</td>\n",
              "      <td>0</td>\n",
              "      <td>0</td>\n",
              "      <td>0</td>\n",
              "      <td>0</td>\n",
              "      <td>0</td>\n",
              "      <td>0</td>\n",
              "      <td>0</td>\n",
              "      <td>0</td>\n",
              "      <td>0</td>\n",
              "      <td>0</td>\n",
              "      <td>0</td>\n",
              "      <td>0</td>\n",
              "      <td>0</td>\n",
              "      <td>0</td>\n",
              "      <td>1</td>\n",
              "      <td>0</td>\n",
              "    </tr>\n",
              "    <tr>\n",
              "      <th>2914</th>\n",
              "      <td>2011</td>\n",
              "      <td>0</td>\n",
              "      <td>0</td>\n",
              "      <td>0</td>\n",
              "      <td>0</td>\n",
              "      <td>0</td>\n",
              "      <td>0</td>\n",
              "      <td>0</td>\n",
              "      <td>0</td>\n",
              "      <td>0</td>\n",
              "      <td>0</td>\n",
              "      <td>0</td>\n",
              "      <td>0</td>\n",
              "      <td>0</td>\n",
              "      <td>1</td>\n",
              "      <td>0</td>\n",
              "      <td>0</td>\n",
              "      <td>0</td>\n",
              "      <td>0</td>\n",
              "      <td>0</td>\n",
              "      <td>0</td>\n",
              "      <td>0</td>\n",
              "      <td>0</td>\n",
              "      <td>0</td>\n",
              "      <td>0</td>\n",
              "      <td>0</td>\n",
              "      <td>0</td>\n",
              "      <td>0</td>\n",
              "      <td>0</td>\n",
              "      <td>0</td>\n",
              "      <td>0</td>\n",
              "      <td>0</td>\n",
              "      <td>0</td>\n",
              "      <td>0</td>\n",
              "      <td>0</td>\n",
              "      <td>0</td>\n",
              "      <td>0</td>\n",
              "      <td>0</td>\n",
              "      <td>0</td>\n",
              "      <td>0</td>\n",
              "      <td>0</td>\n",
              "      <td>0</td>\n",
              "      <td>0</td>\n",
              "      <td>0</td>\n",
              "      <td>0</td>\n",
              "      <td>0</td>\n",
              "      <td>0</td>\n",
              "      <td>0</td>\n",
              "      <td>1</td>\n",
              "      <td>0</td>\n",
              "      <td>0</td>\n",
              "      <td>0</td>\n",
              "    </tr>\n",
              "    <tr>\n",
              "      <th>1738</th>\n",
              "      <td>2016</td>\n",
              "      <td>0</td>\n",
              "      <td>0</td>\n",
              "      <td>0</td>\n",
              "      <td>0</td>\n",
              "      <td>0</td>\n",
              "      <td>0</td>\n",
              "      <td>0</td>\n",
              "      <td>0</td>\n",
              "      <td>0</td>\n",
              "      <td>0</td>\n",
              "      <td>0</td>\n",
              "      <td>0</td>\n",
              "      <td>0</td>\n",
              "      <td>0</td>\n",
              "      <td>0</td>\n",
              "      <td>0</td>\n",
              "      <td>0</td>\n",
              "      <td>0</td>\n",
              "      <td>0</td>\n",
              "      <td>0</td>\n",
              "      <td>0</td>\n",
              "      <td>0</td>\n",
              "      <td>0</td>\n",
              "      <td>0</td>\n",
              "      <td>0</td>\n",
              "      <td>0</td>\n",
              "      <td>0</td>\n",
              "      <td>0</td>\n",
              "      <td>0</td>\n",
              "      <td>0</td>\n",
              "      <td>0</td>\n",
              "      <td>1</td>\n",
              "      <td>0</td>\n",
              "      <td>0</td>\n",
              "      <td>0</td>\n",
              "      <td>0</td>\n",
              "      <td>0</td>\n",
              "      <td>0</td>\n",
              "      <td>0</td>\n",
              "      <td>0</td>\n",
              "      <td>0</td>\n",
              "      <td>1</td>\n",
              "      <td>0</td>\n",
              "      <td>0</td>\n",
              "      <td>0</td>\n",
              "      <td>0</td>\n",
              "      <td>0</td>\n",
              "      <td>0</td>\n",
              "      <td>0</td>\n",
              "      <td>0</td>\n",
              "      <td>0</td>\n",
              "    </tr>\n",
              "    <tr>\n",
              "      <th>2562</th>\n",
              "      <td>2014</td>\n",
              "      <td>0</td>\n",
              "      <td>0</td>\n",
              "      <td>0</td>\n",
              "      <td>0</td>\n",
              "      <td>0</td>\n",
              "      <td>0</td>\n",
              "      <td>0</td>\n",
              "      <td>0</td>\n",
              "      <td>0</td>\n",
              "      <td>0</td>\n",
              "      <td>0</td>\n",
              "      <td>0</td>\n",
              "      <td>0</td>\n",
              "      <td>0</td>\n",
              "      <td>0</td>\n",
              "      <td>0</td>\n",
              "      <td>0</td>\n",
              "      <td>0</td>\n",
              "      <td>0</td>\n",
              "      <td>0</td>\n",
              "      <td>0</td>\n",
              "      <td>0</td>\n",
              "      <td>1</td>\n",
              "      <td>0</td>\n",
              "      <td>0</td>\n",
              "      <td>0</td>\n",
              "      <td>0</td>\n",
              "      <td>0</td>\n",
              "      <td>0</td>\n",
              "      <td>0</td>\n",
              "      <td>0</td>\n",
              "      <td>0</td>\n",
              "      <td>0</td>\n",
              "      <td>0</td>\n",
              "      <td>0</td>\n",
              "      <td>0</td>\n",
              "      <td>0</td>\n",
              "      <td>0</td>\n",
              "      <td>0</td>\n",
              "      <td>0</td>\n",
              "      <td>0</td>\n",
              "      <td>0</td>\n",
              "      <td>0</td>\n",
              "      <td>0</td>\n",
              "      <td>0</td>\n",
              "      <td>1</td>\n",
              "      <td>0</td>\n",
              "      <td>0</td>\n",
              "      <td>0</td>\n",
              "      <td>0</td>\n",
              "      <td>0</td>\n",
              "    </tr>\n",
              "  </tbody>\n",
              "</table>\n",
              "</div>"
            ],
            "text/plain": [
              "       año  Accidentes de transporte  ...  80 y más  Menor de 1 año\n",
              "2606  2016                         0  ...         0               0\n",
              "3495  2016                         0  ...         1               0\n",
              "2914  2011                         0  ...         0               0\n",
              "1738  2016                         0  ...         0               0\n",
              "2562  2014                         0  ...         0               0\n",
              "\n",
              "[5 rows x 52 columns]"
            ]
          },
          "metadata": {
            "tags": []
          },
          "execution_count": 427
        }
      ]
    },
    {
      "cell_type": "markdown",
      "metadata": {
        "id": "uQvsUNZgkXIu",
        "colab_type": "text"
      },
      "source": [
        "# **Intentaremos precedir, dado el rango de edad y causa de muerte, la cantidad de defunciones para los años 2018, 2019 y 2020.**\n",
        "Recordar que solo contamos con datos hasta 2017"
      ]
    },
    {
      "cell_type": "code",
      "metadata": {
        "id": "zkoRPa3SQ_CK",
        "colab_type": "code",
        "outputId": "a710cee6-0f7b-4f8b-856d-bb41b2cde41d",
        "colab": {
          "base_uri": "https://localhost:8080/",
          "height": 394
        }
      },
      "source": [
        "xtestfuturo_modelo = pd.DataFrame(df_train)\n",
        "xtestfuturo_modelo.head()\n",
        "xtestfuturo_modelo = xtestfuturo_modelo.loc[(xtestfuturo_modelo.año == 2017)]\n",
        "xtestfuturo_modelo = xtestfuturo_modelo.drop(['causa_muerte', 'cantidad_de_defunciones','grupos_edad_nombre'], axis=1)\n",
        "xtestfuturo_modelo.head()"
      ],
      "execution_count": 0,
      "outputs": [
        {
          "output_type": "execute_result",
          "data": {
            "text/html": [
              "<div>\n",
              "<style scoped>\n",
              "    .dataframe tbody tr th:only-of-type {\n",
              "        vertical-align: middle;\n",
              "    }\n",
              "\n",
              "    .dataframe tbody tr th {\n",
              "        vertical-align: top;\n",
              "    }\n",
              "\n",
              "    .dataframe thead th {\n",
              "        text-align: right;\n",
              "    }\n",
              "</style>\n",
              "<table border=\"1\" class=\"dataframe\">\n",
              "  <thead>\n",
              "    <tr style=\"text-align: right;\">\n",
              "      <th></th>\n",
              "      <th>año</th>\n",
              "      <th>Accidentes de transporte</th>\n",
              "      <th>Agresiones</th>\n",
              "      <th>Ciertas afecciones originadas en el periodo neonatal</th>\n",
              "      <th>Ciertas enfermedades infecciosas y parasitarias</th>\n",
              "      <th>Complicaciones de la atención médica y quirúrgica</th>\n",
              "      <th>Contacto traumático con animales y plantas venesosas</th>\n",
              "      <th>Embarazo, parto y puerperio</th>\n",
              "      <th>Enfermedades de la piel y el tejido subcutáneo</th>\n",
              "      <th>Enfermedades de la sangre y de los órganos hematopoyéticos y ciertos trastornos que afectan el mecanismo de la inmunidad</th>\n",
              "      <th>Enfermedades del ojo y sus anexos</th>\n",
              "      <th>Enfermedades del oído y de la apófisis mastoides</th>\n",
              "      <th>Enfermedades del sistema circulatorio</th>\n",
              "      <th>Enfermedades del sistema digestivo</th>\n",
              "      <th>Enfermedades del sistema genitourinario</th>\n",
              "      <th>Enfermedades del sistema nervioso</th>\n",
              "      <th>Enfermedades del sistema osteomuscular y del tejido conjuntivo</th>\n",
              "      <th>Enfermedades del sistema respiratorio</th>\n",
              "      <th>Enfermedades endócrinas, nutricionales y metabólicas</th>\n",
              "      <th>Envenenamiento accidental por exposición a sustancias nocivas</th>\n",
              "      <th>Eventos de intención no determinada</th>\n",
              "      <th>Exceso de esfuerzo, viajes y privación</th>\n",
              "      <th>Exposición a fuerzas de la naturaleza</th>\n",
              "      <th>Exposición accidental a otros factores y a los no especificados</th>\n",
              "      <th>Exposición al fuego, humo y llamas</th>\n",
              "      <th>Infecciones virales caracterizadas por lesiones de la piel y de la membranas mucosas</th>\n",
              "      <th>Intervención legal y operaciones de guerra</th>\n",
              "      <th>Lesiones autoinflingidas intencionalmente</th>\n",
              "      <th>Malformaciones congénitas</th>\n",
              "      <th>Otras causas externas de traumatismos accidentales</th>\n",
              "      <th>Secuelas de causas externas de morbilidad y mortalidad</th>\n",
              "      <th>Sintomas, signos y hallazgos anormales clinicos y de laboratorio no clasificados en otra parte</th>\n",
              "      <th>Trastornos mentales y del comportamiento</th>\n",
              "      <th>Tumores (neoplasias)</th>\n",
              "      <th>Tumores (neoplasias) malignos</th>\n",
              "      <th>1 a 9</th>\n",
              "      <th>10 a 14</th>\n",
              "      <th>15 a 19</th>\n",
              "      <th>20 a 24</th>\n",
              "      <th>25 a 29</th>\n",
              "      <th>30 a 34</th>\n",
              "      <th>35 a 39</th>\n",
              "      <th>40 a 44</th>\n",
              "      <th>45 a 49</th>\n",
              "      <th>50 a 54</th>\n",
              "      <th>55 a 59</th>\n",
              "      <th>60 a 64</th>\n",
              "      <th>65 a 69</th>\n",
              "      <th>70 a 74</th>\n",
              "      <th>75 a 79</th>\n",
              "      <th>80 y más</th>\n",
              "      <th>Menor de 1 año</th>\n",
              "    </tr>\n",
              "  </thead>\n",
              "  <tbody>\n",
              "    <tr>\n",
              "      <th>180</th>\n",
              "      <td>2017</td>\n",
              "      <td>1</td>\n",
              "      <td>0</td>\n",
              "      <td>0</td>\n",
              "      <td>0</td>\n",
              "      <td>0</td>\n",
              "      <td>0</td>\n",
              "      <td>0</td>\n",
              "      <td>0</td>\n",
              "      <td>0</td>\n",
              "      <td>0</td>\n",
              "      <td>0</td>\n",
              "      <td>0</td>\n",
              "      <td>0</td>\n",
              "      <td>0</td>\n",
              "      <td>0</td>\n",
              "      <td>0</td>\n",
              "      <td>0</td>\n",
              "      <td>0</td>\n",
              "      <td>0</td>\n",
              "      <td>0</td>\n",
              "      <td>0</td>\n",
              "      <td>0</td>\n",
              "      <td>0</td>\n",
              "      <td>0</td>\n",
              "      <td>0</td>\n",
              "      <td>0</td>\n",
              "      <td>0</td>\n",
              "      <td>0</td>\n",
              "      <td>0</td>\n",
              "      <td>0</td>\n",
              "      <td>0</td>\n",
              "      <td>0</td>\n",
              "      <td>0</td>\n",
              "      <td>0</td>\n",
              "      <td>1</td>\n",
              "      <td>0</td>\n",
              "      <td>0</td>\n",
              "      <td>0</td>\n",
              "      <td>0</td>\n",
              "      <td>0</td>\n",
              "      <td>0</td>\n",
              "      <td>0</td>\n",
              "      <td>0</td>\n",
              "      <td>0</td>\n",
              "      <td>0</td>\n",
              "      <td>0</td>\n",
              "      <td>0</td>\n",
              "      <td>0</td>\n",
              "      <td>0</td>\n",
              "      <td>0</td>\n",
              "      <td>0</td>\n",
              "    </tr>\n",
              "    <tr>\n",
              "      <th>181</th>\n",
              "      <td>2017</td>\n",
              "      <td>0</td>\n",
              "      <td>1</td>\n",
              "      <td>0</td>\n",
              "      <td>0</td>\n",
              "      <td>0</td>\n",
              "      <td>0</td>\n",
              "      <td>0</td>\n",
              "      <td>0</td>\n",
              "      <td>0</td>\n",
              "      <td>0</td>\n",
              "      <td>0</td>\n",
              "      <td>0</td>\n",
              "      <td>0</td>\n",
              "      <td>0</td>\n",
              "      <td>0</td>\n",
              "      <td>0</td>\n",
              "      <td>0</td>\n",
              "      <td>0</td>\n",
              "      <td>0</td>\n",
              "      <td>0</td>\n",
              "      <td>0</td>\n",
              "      <td>0</td>\n",
              "      <td>0</td>\n",
              "      <td>0</td>\n",
              "      <td>0</td>\n",
              "      <td>0</td>\n",
              "      <td>0</td>\n",
              "      <td>0</td>\n",
              "      <td>0</td>\n",
              "      <td>0</td>\n",
              "      <td>0</td>\n",
              "      <td>0</td>\n",
              "      <td>0</td>\n",
              "      <td>0</td>\n",
              "      <td>1</td>\n",
              "      <td>0</td>\n",
              "      <td>0</td>\n",
              "      <td>0</td>\n",
              "      <td>0</td>\n",
              "      <td>0</td>\n",
              "      <td>0</td>\n",
              "      <td>0</td>\n",
              "      <td>0</td>\n",
              "      <td>0</td>\n",
              "      <td>0</td>\n",
              "      <td>0</td>\n",
              "      <td>0</td>\n",
              "      <td>0</td>\n",
              "      <td>0</td>\n",
              "      <td>0</td>\n",
              "      <td>0</td>\n",
              "    </tr>\n",
              "    <tr>\n",
              "      <th>182</th>\n",
              "      <td>2017</td>\n",
              "      <td>0</td>\n",
              "      <td>0</td>\n",
              "      <td>1</td>\n",
              "      <td>0</td>\n",
              "      <td>0</td>\n",
              "      <td>0</td>\n",
              "      <td>0</td>\n",
              "      <td>0</td>\n",
              "      <td>0</td>\n",
              "      <td>0</td>\n",
              "      <td>0</td>\n",
              "      <td>0</td>\n",
              "      <td>0</td>\n",
              "      <td>0</td>\n",
              "      <td>0</td>\n",
              "      <td>0</td>\n",
              "      <td>0</td>\n",
              "      <td>0</td>\n",
              "      <td>0</td>\n",
              "      <td>0</td>\n",
              "      <td>0</td>\n",
              "      <td>0</td>\n",
              "      <td>0</td>\n",
              "      <td>0</td>\n",
              "      <td>0</td>\n",
              "      <td>0</td>\n",
              "      <td>0</td>\n",
              "      <td>0</td>\n",
              "      <td>0</td>\n",
              "      <td>0</td>\n",
              "      <td>0</td>\n",
              "      <td>0</td>\n",
              "      <td>0</td>\n",
              "      <td>0</td>\n",
              "      <td>1</td>\n",
              "      <td>0</td>\n",
              "      <td>0</td>\n",
              "      <td>0</td>\n",
              "      <td>0</td>\n",
              "      <td>0</td>\n",
              "      <td>0</td>\n",
              "      <td>0</td>\n",
              "      <td>0</td>\n",
              "      <td>0</td>\n",
              "      <td>0</td>\n",
              "      <td>0</td>\n",
              "      <td>0</td>\n",
              "      <td>0</td>\n",
              "      <td>0</td>\n",
              "      <td>0</td>\n",
              "      <td>0</td>\n",
              "    </tr>\n",
              "    <tr>\n",
              "      <th>183</th>\n",
              "      <td>2017</td>\n",
              "      <td>0</td>\n",
              "      <td>0</td>\n",
              "      <td>0</td>\n",
              "      <td>1</td>\n",
              "      <td>0</td>\n",
              "      <td>0</td>\n",
              "      <td>0</td>\n",
              "      <td>0</td>\n",
              "      <td>0</td>\n",
              "      <td>0</td>\n",
              "      <td>0</td>\n",
              "      <td>0</td>\n",
              "      <td>0</td>\n",
              "      <td>0</td>\n",
              "      <td>0</td>\n",
              "      <td>0</td>\n",
              "      <td>0</td>\n",
              "      <td>0</td>\n",
              "      <td>0</td>\n",
              "      <td>0</td>\n",
              "      <td>0</td>\n",
              "      <td>0</td>\n",
              "      <td>0</td>\n",
              "      <td>0</td>\n",
              "      <td>0</td>\n",
              "      <td>0</td>\n",
              "      <td>0</td>\n",
              "      <td>0</td>\n",
              "      <td>0</td>\n",
              "      <td>0</td>\n",
              "      <td>0</td>\n",
              "      <td>0</td>\n",
              "      <td>0</td>\n",
              "      <td>0</td>\n",
              "      <td>1</td>\n",
              "      <td>0</td>\n",
              "      <td>0</td>\n",
              "      <td>0</td>\n",
              "      <td>0</td>\n",
              "      <td>0</td>\n",
              "      <td>0</td>\n",
              "      <td>0</td>\n",
              "      <td>0</td>\n",
              "      <td>0</td>\n",
              "      <td>0</td>\n",
              "      <td>0</td>\n",
              "      <td>0</td>\n",
              "      <td>0</td>\n",
              "      <td>0</td>\n",
              "      <td>0</td>\n",
              "      <td>0</td>\n",
              "    </tr>\n",
              "    <tr>\n",
              "      <th>184</th>\n",
              "      <td>2017</td>\n",
              "      <td>0</td>\n",
              "      <td>0</td>\n",
              "      <td>0</td>\n",
              "      <td>0</td>\n",
              "      <td>1</td>\n",
              "      <td>0</td>\n",
              "      <td>0</td>\n",
              "      <td>0</td>\n",
              "      <td>0</td>\n",
              "      <td>0</td>\n",
              "      <td>0</td>\n",
              "      <td>0</td>\n",
              "      <td>0</td>\n",
              "      <td>0</td>\n",
              "      <td>0</td>\n",
              "      <td>0</td>\n",
              "      <td>0</td>\n",
              "      <td>0</td>\n",
              "      <td>0</td>\n",
              "      <td>0</td>\n",
              "      <td>0</td>\n",
              "      <td>0</td>\n",
              "      <td>0</td>\n",
              "      <td>0</td>\n",
              "      <td>0</td>\n",
              "      <td>0</td>\n",
              "      <td>0</td>\n",
              "      <td>0</td>\n",
              "      <td>0</td>\n",
              "      <td>0</td>\n",
              "      <td>0</td>\n",
              "      <td>0</td>\n",
              "      <td>0</td>\n",
              "      <td>0</td>\n",
              "      <td>1</td>\n",
              "      <td>0</td>\n",
              "      <td>0</td>\n",
              "      <td>0</td>\n",
              "      <td>0</td>\n",
              "      <td>0</td>\n",
              "      <td>0</td>\n",
              "      <td>0</td>\n",
              "      <td>0</td>\n",
              "      <td>0</td>\n",
              "      <td>0</td>\n",
              "      <td>0</td>\n",
              "      <td>0</td>\n",
              "      <td>0</td>\n",
              "      <td>0</td>\n",
              "      <td>0</td>\n",
              "      <td>0</td>\n",
              "    </tr>\n",
              "  </tbody>\n",
              "</table>\n",
              "</div>"
            ],
            "text/plain": [
              "      año  Accidentes de transporte  ...  80 y más  Menor de 1 año\n",
              "180  2017                         1  ...         0               0\n",
              "181  2017                         0  ...         0               0\n",
              "182  2017                         0  ...         0               0\n",
              "183  2017                         0  ...         0               0\n",
              "184  2017                         0  ...         0               0\n",
              "\n",
              "[5 rows x 52 columns]"
            ]
          },
          "metadata": {
            "tags": []
          },
          "execution_count": 428
        }
      ]
    },
    {
      "cell_type": "code",
      "metadata": {
        "id": "yLYc4wQASgn_",
        "colab_type": "code",
        "outputId": "5d021a9e-7062-4989-f1bc-bc71ab48b73b",
        "colab": {
          "base_uri": "https://localhost:8080/",
          "height": 34
        }
      },
      "source": [
        "xtestfuturo_modelo.shape"
      ],
      "execution_count": 0,
      "outputs": [
        {
          "output_type": "execute_result",
          "data": {
            "text/plain": [
              "(481, 52)"
            ]
          },
          "metadata": {
            "tags": []
          },
          "execution_count": 429
        }
      ]
    },
    {
      "cell_type": "markdown",
      "metadata": {
        "id": "Z6QJ0Prymxik",
        "colab_type": "text"
      },
      "source": [
        "A partir del dataset 2017, genero 3 copias para 2018, 2019 y 2020 y las concateno"
      ]
    },
    {
      "cell_type": "code",
      "metadata": {
        "id": "c1doIHwxU6s6",
        "colab_type": "code",
        "outputId": "56ab75d1-950a-4c31-e611-bed40add5e0f",
        "colab": {
          "base_uri": "https://localhost:8080/",
          "height": 34
        }
      },
      "source": [
        "xtestfuturo2018 = xtestfuturo_modelo.copy()\n",
        "xtestfuturo2018['año'] = 2018\n",
        "xtestfuturo2019 = xtestfuturo_modelo.copy()\n",
        "xtestfuturo2019['año'] = 2019\n",
        "xtestfuturo2020 = xtestfuturo_modelo.copy()\n",
        "xtestfuturo2020['año'] = 2020\n",
        "\n",
        "xtestfuturo = pd.concat([xtestfuturo2018,xtestfuturo2019,xtestfuturo2020], axis=0, sort=False, ignore_index=True)\n",
        "xtestfuturo.shape"
      ],
      "execution_count": 0,
      "outputs": [
        {
          "output_type": "execute_result",
          "data": {
            "text/plain": [
              "(1443, 52)"
            ]
          },
          "metadata": {
            "tags": []
          },
          "execution_count": 430
        }
      ]
    },
    {
      "cell_type": "code",
      "metadata": {
        "id": "pBHAgAV5VjR1",
        "colab_type": "code",
        "colab": {}
      },
      "source": [
        "scaler_f = preprocessing.StandardScaler().fit(xtrain)\n",
        "scaler_f\n",
        "xtestfuturo_scal = scaler_f.transform(xtestfuturo)"
      ],
      "execution_count": 0,
      "outputs": []
    },
    {
      "cell_type": "code",
      "metadata": {
        "id": "NgxGJd49WBsU",
        "colab_type": "code",
        "outputId": "21260985-7b67-4370-fd12-c6b4c4629e46",
        "colab": {
          "base_uri": "https://localhost:8080/",
          "height": 238
        }
      },
      "source": [
        "xtestfuturo_scal"
      ],
      "execution_count": 0,
      "outputs": [
        {
          "output_type": "execute_result",
          "data": {
            "text/plain": [
              "array([[ 1.95089465,  5.12204003, -0.19448836, ..., -0.25250042,\n",
              "        -0.25370813, -0.23445702],\n",
              "       [ 1.95089465, -0.19523471,  5.14169593, ..., -0.25250042,\n",
              "        -0.25370813, -0.23445702],\n",
              "       [ 1.95089465, -0.19523471, -0.19448836, ..., -0.25250042,\n",
              "        -0.25370813, -0.23445702],\n",
              "       ...,\n",
              "       [ 2.82324496, -0.19523471, -0.19448836, ..., -0.25250042,\n",
              "        -0.25370813,  4.26517407],\n",
              "       [ 2.82324496, -0.19523471, -0.19448836, ..., -0.25250042,\n",
              "        -0.25370813,  4.26517407],\n",
              "       [ 2.82324496, -0.19523471, -0.19448836, ..., -0.25250042,\n",
              "        -0.25370813,  4.26517407]])"
            ]
          },
          "metadata": {
            "tags": []
          },
          "execution_count": 432
        }
      ]
    },
    {
      "cell_type": "code",
      "metadata": {
        "id": "DCrLDBN8WGfN",
        "colab_type": "code",
        "colab": {}
      },
      "source": [
        "# realizo con mi modelo entrenado, predicciones de Y 2018 2019 2010 (ypred) utilizando solo xtestfuturo\n",
        "ypred181920 = regresor_neigh.predict(xtestfuturo_scal)\n",
        "#ypred2018.astype(int)"
      ],
      "execution_count": 0,
      "outputs": []
    },
    {
      "cell_type": "code",
      "metadata": {
        "id": "sQ_6qmtOWomU",
        "colab_type": "code",
        "outputId": "a7b58f93-47b0-4fb8-b8a5-a3e214d734c2",
        "colab": {
          "base_uri": "https://localhost:8080/",
          "height": 394
        }
      },
      "source": [
        "futuro181920 = pd.DataFrame(xtestfuturo)\n",
        "futuro181920['cantidad_de_defunciones'] = 0\n",
        "for r in range(0,futuro181920.shape[0]):\n",
        "  futuro181920['cantidad_de_defunciones'].values[r] = ypred181920[r]\n",
        "futuro181920.head()"
      ],
      "execution_count": 0,
      "outputs": [
        {
          "output_type": "execute_result",
          "data": {
            "text/html": [
              "<div>\n",
              "<style scoped>\n",
              "    .dataframe tbody tr th:only-of-type {\n",
              "        vertical-align: middle;\n",
              "    }\n",
              "\n",
              "    .dataframe tbody tr th {\n",
              "        vertical-align: top;\n",
              "    }\n",
              "\n",
              "    .dataframe thead th {\n",
              "        text-align: right;\n",
              "    }\n",
              "</style>\n",
              "<table border=\"1\" class=\"dataframe\">\n",
              "  <thead>\n",
              "    <tr style=\"text-align: right;\">\n",
              "      <th></th>\n",
              "      <th>año</th>\n",
              "      <th>Accidentes de transporte</th>\n",
              "      <th>Agresiones</th>\n",
              "      <th>Ciertas afecciones originadas en el periodo neonatal</th>\n",
              "      <th>Ciertas enfermedades infecciosas y parasitarias</th>\n",
              "      <th>Complicaciones de la atención médica y quirúrgica</th>\n",
              "      <th>Contacto traumático con animales y plantas venesosas</th>\n",
              "      <th>Embarazo, parto y puerperio</th>\n",
              "      <th>Enfermedades de la piel y el tejido subcutáneo</th>\n",
              "      <th>Enfermedades de la sangre y de los órganos hematopoyéticos y ciertos trastornos que afectan el mecanismo de la inmunidad</th>\n",
              "      <th>Enfermedades del ojo y sus anexos</th>\n",
              "      <th>Enfermedades del oído y de la apófisis mastoides</th>\n",
              "      <th>Enfermedades del sistema circulatorio</th>\n",
              "      <th>Enfermedades del sistema digestivo</th>\n",
              "      <th>Enfermedades del sistema genitourinario</th>\n",
              "      <th>Enfermedades del sistema nervioso</th>\n",
              "      <th>Enfermedades del sistema osteomuscular y del tejido conjuntivo</th>\n",
              "      <th>Enfermedades del sistema respiratorio</th>\n",
              "      <th>Enfermedades endócrinas, nutricionales y metabólicas</th>\n",
              "      <th>Envenenamiento accidental por exposición a sustancias nocivas</th>\n",
              "      <th>Eventos de intención no determinada</th>\n",
              "      <th>Exceso de esfuerzo, viajes y privación</th>\n",
              "      <th>Exposición a fuerzas de la naturaleza</th>\n",
              "      <th>Exposición accidental a otros factores y a los no especificados</th>\n",
              "      <th>Exposición al fuego, humo y llamas</th>\n",
              "      <th>Infecciones virales caracterizadas por lesiones de la piel y de la membranas mucosas</th>\n",
              "      <th>Intervención legal y operaciones de guerra</th>\n",
              "      <th>Lesiones autoinflingidas intencionalmente</th>\n",
              "      <th>Malformaciones congénitas</th>\n",
              "      <th>Otras causas externas de traumatismos accidentales</th>\n",
              "      <th>Secuelas de causas externas de morbilidad y mortalidad</th>\n",
              "      <th>Sintomas, signos y hallazgos anormales clinicos y de laboratorio no clasificados en otra parte</th>\n",
              "      <th>Trastornos mentales y del comportamiento</th>\n",
              "      <th>Tumores (neoplasias)</th>\n",
              "      <th>Tumores (neoplasias) malignos</th>\n",
              "      <th>1 a 9</th>\n",
              "      <th>10 a 14</th>\n",
              "      <th>15 a 19</th>\n",
              "      <th>20 a 24</th>\n",
              "      <th>25 a 29</th>\n",
              "      <th>30 a 34</th>\n",
              "      <th>35 a 39</th>\n",
              "      <th>40 a 44</th>\n",
              "      <th>45 a 49</th>\n",
              "      <th>50 a 54</th>\n",
              "      <th>55 a 59</th>\n",
              "      <th>60 a 64</th>\n",
              "      <th>65 a 69</th>\n",
              "      <th>70 a 74</th>\n",
              "      <th>75 a 79</th>\n",
              "      <th>80 y más</th>\n",
              "      <th>Menor de 1 año</th>\n",
              "      <th>cantidad_de_defunciones</th>\n",
              "    </tr>\n",
              "  </thead>\n",
              "  <tbody>\n",
              "    <tr>\n",
              "      <th>0</th>\n",
              "      <td>2018</td>\n",
              "      <td>1</td>\n",
              "      <td>0</td>\n",
              "      <td>0</td>\n",
              "      <td>0</td>\n",
              "      <td>0</td>\n",
              "      <td>0</td>\n",
              "      <td>0</td>\n",
              "      <td>0</td>\n",
              "      <td>0</td>\n",
              "      <td>0</td>\n",
              "      <td>0</td>\n",
              "      <td>0</td>\n",
              "      <td>0</td>\n",
              "      <td>0</td>\n",
              "      <td>0</td>\n",
              "      <td>0</td>\n",
              "      <td>0</td>\n",
              "      <td>0</td>\n",
              "      <td>0</td>\n",
              "      <td>0</td>\n",
              "      <td>0</td>\n",
              "      <td>0</td>\n",
              "      <td>0</td>\n",
              "      <td>0</td>\n",
              "      <td>0</td>\n",
              "      <td>0</td>\n",
              "      <td>0</td>\n",
              "      <td>0</td>\n",
              "      <td>0</td>\n",
              "      <td>0</td>\n",
              "      <td>0</td>\n",
              "      <td>0</td>\n",
              "      <td>0</td>\n",
              "      <td>0</td>\n",
              "      <td>1</td>\n",
              "      <td>0</td>\n",
              "      <td>0</td>\n",
              "      <td>0</td>\n",
              "      <td>0</td>\n",
              "      <td>0</td>\n",
              "      <td>0</td>\n",
              "      <td>0</td>\n",
              "      <td>0</td>\n",
              "      <td>0</td>\n",
              "      <td>0</td>\n",
              "      <td>0</td>\n",
              "      <td>0</td>\n",
              "      <td>0</td>\n",
              "      <td>0</td>\n",
              "      <td>0</td>\n",
              "      <td>0</td>\n",
              "      <td>134</td>\n",
              "    </tr>\n",
              "    <tr>\n",
              "      <th>1</th>\n",
              "      <td>2018</td>\n",
              "      <td>0</td>\n",
              "      <td>1</td>\n",
              "      <td>0</td>\n",
              "      <td>0</td>\n",
              "      <td>0</td>\n",
              "      <td>0</td>\n",
              "      <td>0</td>\n",
              "      <td>0</td>\n",
              "      <td>0</td>\n",
              "      <td>0</td>\n",
              "      <td>0</td>\n",
              "      <td>0</td>\n",
              "      <td>0</td>\n",
              "      <td>0</td>\n",
              "      <td>0</td>\n",
              "      <td>0</td>\n",
              "      <td>0</td>\n",
              "      <td>0</td>\n",
              "      <td>0</td>\n",
              "      <td>0</td>\n",
              "      <td>0</td>\n",
              "      <td>0</td>\n",
              "      <td>0</td>\n",
              "      <td>0</td>\n",
              "      <td>0</td>\n",
              "      <td>0</td>\n",
              "      <td>0</td>\n",
              "      <td>0</td>\n",
              "      <td>0</td>\n",
              "      <td>0</td>\n",
              "      <td>0</td>\n",
              "      <td>0</td>\n",
              "      <td>0</td>\n",
              "      <td>0</td>\n",
              "      <td>1</td>\n",
              "      <td>0</td>\n",
              "      <td>0</td>\n",
              "      <td>0</td>\n",
              "      <td>0</td>\n",
              "      <td>0</td>\n",
              "      <td>0</td>\n",
              "      <td>0</td>\n",
              "      <td>0</td>\n",
              "      <td>0</td>\n",
              "      <td>0</td>\n",
              "      <td>0</td>\n",
              "      <td>0</td>\n",
              "      <td>0</td>\n",
              "      <td>0</td>\n",
              "      <td>0</td>\n",
              "      <td>0</td>\n",
              "      <td>27</td>\n",
              "    </tr>\n",
              "    <tr>\n",
              "      <th>2</th>\n",
              "      <td>2018</td>\n",
              "      <td>0</td>\n",
              "      <td>0</td>\n",
              "      <td>1</td>\n",
              "      <td>0</td>\n",
              "      <td>0</td>\n",
              "      <td>0</td>\n",
              "      <td>0</td>\n",
              "      <td>0</td>\n",
              "      <td>0</td>\n",
              "      <td>0</td>\n",
              "      <td>0</td>\n",
              "      <td>0</td>\n",
              "      <td>0</td>\n",
              "      <td>0</td>\n",
              "      <td>0</td>\n",
              "      <td>0</td>\n",
              "      <td>0</td>\n",
              "      <td>0</td>\n",
              "      <td>0</td>\n",
              "      <td>0</td>\n",
              "      <td>0</td>\n",
              "      <td>0</td>\n",
              "      <td>0</td>\n",
              "      <td>0</td>\n",
              "      <td>0</td>\n",
              "      <td>0</td>\n",
              "      <td>0</td>\n",
              "      <td>0</td>\n",
              "      <td>0</td>\n",
              "      <td>0</td>\n",
              "      <td>0</td>\n",
              "      <td>0</td>\n",
              "      <td>0</td>\n",
              "      <td>0</td>\n",
              "      <td>1</td>\n",
              "      <td>0</td>\n",
              "      <td>0</td>\n",
              "      <td>0</td>\n",
              "      <td>0</td>\n",
              "      <td>0</td>\n",
              "      <td>0</td>\n",
              "      <td>0</td>\n",
              "      <td>0</td>\n",
              "      <td>0</td>\n",
              "      <td>0</td>\n",
              "      <td>0</td>\n",
              "      <td>0</td>\n",
              "      <td>0</td>\n",
              "      <td>0</td>\n",
              "      <td>0</td>\n",
              "      <td>0</td>\n",
              "      <td>4</td>\n",
              "    </tr>\n",
              "    <tr>\n",
              "      <th>3</th>\n",
              "      <td>2018</td>\n",
              "      <td>0</td>\n",
              "      <td>0</td>\n",
              "      <td>0</td>\n",
              "      <td>1</td>\n",
              "      <td>0</td>\n",
              "      <td>0</td>\n",
              "      <td>0</td>\n",
              "      <td>0</td>\n",
              "      <td>0</td>\n",
              "      <td>0</td>\n",
              "      <td>0</td>\n",
              "      <td>0</td>\n",
              "      <td>0</td>\n",
              "      <td>0</td>\n",
              "      <td>0</td>\n",
              "      <td>0</td>\n",
              "      <td>0</td>\n",
              "      <td>0</td>\n",
              "      <td>0</td>\n",
              "      <td>0</td>\n",
              "      <td>0</td>\n",
              "      <td>0</td>\n",
              "      <td>0</td>\n",
              "      <td>0</td>\n",
              "      <td>0</td>\n",
              "      <td>0</td>\n",
              "      <td>0</td>\n",
              "      <td>0</td>\n",
              "      <td>0</td>\n",
              "      <td>0</td>\n",
              "      <td>0</td>\n",
              "      <td>0</td>\n",
              "      <td>0</td>\n",
              "      <td>0</td>\n",
              "      <td>1</td>\n",
              "      <td>0</td>\n",
              "      <td>0</td>\n",
              "      <td>0</td>\n",
              "      <td>0</td>\n",
              "      <td>0</td>\n",
              "      <td>0</td>\n",
              "      <td>0</td>\n",
              "      <td>0</td>\n",
              "      <td>0</td>\n",
              "      <td>0</td>\n",
              "      <td>0</td>\n",
              "      <td>0</td>\n",
              "      <td>0</td>\n",
              "      <td>0</td>\n",
              "      <td>0</td>\n",
              "      <td>0</td>\n",
              "      <td>88</td>\n",
              "    </tr>\n",
              "    <tr>\n",
              "      <th>4</th>\n",
              "      <td>2018</td>\n",
              "      <td>0</td>\n",
              "      <td>0</td>\n",
              "      <td>0</td>\n",
              "      <td>0</td>\n",
              "      <td>1</td>\n",
              "      <td>0</td>\n",
              "      <td>0</td>\n",
              "      <td>0</td>\n",
              "      <td>0</td>\n",
              "      <td>0</td>\n",
              "      <td>0</td>\n",
              "      <td>0</td>\n",
              "      <td>0</td>\n",
              "      <td>0</td>\n",
              "      <td>0</td>\n",
              "      <td>0</td>\n",
              "      <td>0</td>\n",
              "      <td>0</td>\n",
              "      <td>0</td>\n",
              "      <td>0</td>\n",
              "      <td>0</td>\n",
              "      <td>0</td>\n",
              "      <td>0</td>\n",
              "      <td>0</td>\n",
              "      <td>0</td>\n",
              "      <td>0</td>\n",
              "      <td>0</td>\n",
              "      <td>0</td>\n",
              "      <td>0</td>\n",
              "      <td>0</td>\n",
              "      <td>0</td>\n",
              "      <td>0</td>\n",
              "      <td>0</td>\n",
              "      <td>0</td>\n",
              "      <td>1</td>\n",
              "      <td>0</td>\n",
              "      <td>0</td>\n",
              "      <td>0</td>\n",
              "      <td>0</td>\n",
              "      <td>0</td>\n",
              "      <td>0</td>\n",
              "      <td>0</td>\n",
              "      <td>0</td>\n",
              "      <td>0</td>\n",
              "      <td>0</td>\n",
              "      <td>0</td>\n",
              "      <td>0</td>\n",
              "      <td>0</td>\n",
              "      <td>0</td>\n",
              "      <td>0</td>\n",
              "      <td>0</td>\n",
              "      <td>7</td>\n",
              "    </tr>\n",
              "  </tbody>\n",
              "</table>\n",
              "</div>"
            ],
            "text/plain": [
              "    año  Accidentes de transporte  ...  Menor de 1 año  cantidad_de_defunciones\n",
              "0  2018                         1  ...               0                      134\n",
              "1  2018                         0  ...               0                       27\n",
              "2  2018                         0  ...               0                        4\n",
              "3  2018                         0  ...               0                       88\n",
              "4  2018                         0  ...               0                        7\n",
              "\n",
              "[5 rows x 53 columns]"
            ]
          },
          "metadata": {
            "tags": []
          },
          "execution_count": 434
        }
      ]
    },
    {
      "cell_type": "code",
      "metadata": {
        "id": "91YSR3OEW8CG",
        "colab_type": "code",
        "colab": {}
      },
      "source": [
        "defunciones_before = df_train.drop(['causa_muerte','grupos_edad_nombre'], axis=1)\n",
        "defunciones_complete = pd.concat([defunciones_before,futuro181920], axis=0, sort=False)"
      ],
      "execution_count": 0,
      "outputs": []
    },
    {
      "cell_type": "code",
      "metadata": {
        "id": "xM-h8ZVGZVXU",
        "colab_type": "code",
        "outputId": "eb5ac154-e4c2-464d-8ad6-07388d007061",
        "colab": {
          "base_uri": "https://localhost:8080/",
          "height": 394
        }
      },
      "source": [
        "defunciones_complete.head()"
      ],
      "execution_count": 0,
      "outputs": [
        {
          "output_type": "execute_result",
          "data": {
            "text/html": [
              "<div>\n",
              "<style scoped>\n",
              "    .dataframe tbody tr th:only-of-type {\n",
              "        vertical-align: middle;\n",
              "    }\n",
              "\n",
              "    .dataframe tbody tr th {\n",
              "        vertical-align: top;\n",
              "    }\n",
              "\n",
              "    .dataframe thead th {\n",
              "        text-align: right;\n",
              "    }\n",
              "</style>\n",
              "<table border=\"1\" class=\"dataframe\">\n",
              "  <thead>\n",
              "    <tr style=\"text-align: right;\">\n",
              "      <th></th>\n",
              "      <th>año</th>\n",
              "      <th>cantidad_de_defunciones</th>\n",
              "      <th>Accidentes de transporte</th>\n",
              "      <th>Agresiones</th>\n",
              "      <th>Ciertas afecciones originadas en el periodo neonatal</th>\n",
              "      <th>Ciertas enfermedades infecciosas y parasitarias</th>\n",
              "      <th>Complicaciones de la atención médica y quirúrgica</th>\n",
              "      <th>Contacto traumático con animales y plantas venesosas</th>\n",
              "      <th>Embarazo, parto y puerperio</th>\n",
              "      <th>Enfermedades de la piel y el tejido subcutáneo</th>\n",
              "      <th>Enfermedades de la sangre y de los órganos hematopoyéticos y ciertos trastornos que afectan el mecanismo de la inmunidad</th>\n",
              "      <th>Enfermedades del ojo y sus anexos</th>\n",
              "      <th>Enfermedades del oído y de la apófisis mastoides</th>\n",
              "      <th>Enfermedades del sistema circulatorio</th>\n",
              "      <th>Enfermedades del sistema digestivo</th>\n",
              "      <th>Enfermedades del sistema genitourinario</th>\n",
              "      <th>Enfermedades del sistema nervioso</th>\n",
              "      <th>Enfermedades del sistema osteomuscular y del tejido conjuntivo</th>\n",
              "      <th>Enfermedades del sistema respiratorio</th>\n",
              "      <th>Enfermedades endócrinas, nutricionales y metabólicas</th>\n",
              "      <th>Envenenamiento accidental por exposición a sustancias nocivas</th>\n",
              "      <th>Eventos de intención no determinada</th>\n",
              "      <th>Exceso de esfuerzo, viajes y privación</th>\n",
              "      <th>Exposición a fuerzas de la naturaleza</th>\n",
              "      <th>Exposición accidental a otros factores y a los no especificados</th>\n",
              "      <th>Exposición al fuego, humo y llamas</th>\n",
              "      <th>Infecciones virales caracterizadas por lesiones de la piel y de la membranas mucosas</th>\n",
              "      <th>Intervención legal y operaciones de guerra</th>\n",
              "      <th>Lesiones autoinflingidas intencionalmente</th>\n",
              "      <th>Malformaciones congénitas</th>\n",
              "      <th>Otras causas externas de traumatismos accidentales</th>\n",
              "      <th>Secuelas de causas externas de morbilidad y mortalidad</th>\n",
              "      <th>Sintomas, signos y hallazgos anormales clinicos y de laboratorio no clasificados en otra parte</th>\n",
              "      <th>Trastornos mentales y del comportamiento</th>\n",
              "      <th>Tumores (neoplasias)</th>\n",
              "      <th>Tumores (neoplasias) malignos</th>\n",
              "      <th>1 a 9</th>\n",
              "      <th>10 a 14</th>\n",
              "      <th>15 a 19</th>\n",
              "      <th>20 a 24</th>\n",
              "      <th>25 a 29</th>\n",
              "      <th>30 a 34</th>\n",
              "      <th>35 a 39</th>\n",
              "      <th>40 a 44</th>\n",
              "      <th>45 a 49</th>\n",
              "      <th>50 a 54</th>\n",
              "      <th>55 a 59</th>\n",
              "      <th>60 a 64</th>\n",
              "      <th>65 a 69</th>\n",
              "      <th>70 a 74</th>\n",
              "      <th>75 a 79</th>\n",
              "      <th>80 y más</th>\n",
              "      <th>Menor de 1 año</th>\n",
              "    </tr>\n",
              "  </thead>\n",
              "  <tbody>\n",
              "    <tr>\n",
              "      <th>0</th>\n",
              "      <td>2010</td>\n",
              "      <td>161</td>\n",
              "      <td>1</td>\n",
              "      <td>0</td>\n",
              "      <td>0</td>\n",
              "      <td>0</td>\n",
              "      <td>0</td>\n",
              "      <td>0</td>\n",
              "      <td>0</td>\n",
              "      <td>0</td>\n",
              "      <td>0</td>\n",
              "      <td>0</td>\n",
              "      <td>0</td>\n",
              "      <td>0</td>\n",
              "      <td>0</td>\n",
              "      <td>0</td>\n",
              "      <td>0</td>\n",
              "      <td>0</td>\n",
              "      <td>0</td>\n",
              "      <td>0</td>\n",
              "      <td>0</td>\n",
              "      <td>0</td>\n",
              "      <td>0</td>\n",
              "      <td>0</td>\n",
              "      <td>0</td>\n",
              "      <td>0</td>\n",
              "      <td>0</td>\n",
              "      <td>0</td>\n",
              "      <td>0</td>\n",
              "      <td>0</td>\n",
              "      <td>0</td>\n",
              "      <td>0</td>\n",
              "      <td>0</td>\n",
              "      <td>0</td>\n",
              "      <td>0</td>\n",
              "      <td>0</td>\n",
              "      <td>1</td>\n",
              "      <td>0</td>\n",
              "      <td>0</td>\n",
              "      <td>0</td>\n",
              "      <td>0</td>\n",
              "      <td>0</td>\n",
              "      <td>0</td>\n",
              "      <td>0</td>\n",
              "      <td>0</td>\n",
              "      <td>0</td>\n",
              "      <td>0</td>\n",
              "      <td>0</td>\n",
              "      <td>0</td>\n",
              "      <td>0</td>\n",
              "      <td>0</td>\n",
              "      <td>0</td>\n",
              "      <td>0</td>\n",
              "    </tr>\n",
              "    <tr>\n",
              "      <th>1</th>\n",
              "      <td>2010</td>\n",
              "      <td>28</td>\n",
              "      <td>0</td>\n",
              "      <td>1</td>\n",
              "      <td>0</td>\n",
              "      <td>0</td>\n",
              "      <td>0</td>\n",
              "      <td>0</td>\n",
              "      <td>0</td>\n",
              "      <td>0</td>\n",
              "      <td>0</td>\n",
              "      <td>0</td>\n",
              "      <td>0</td>\n",
              "      <td>0</td>\n",
              "      <td>0</td>\n",
              "      <td>0</td>\n",
              "      <td>0</td>\n",
              "      <td>0</td>\n",
              "      <td>0</td>\n",
              "      <td>0</td>\n",
              "      <td>0</td>\n",
              "      <td>0</td>\n",
              "      <td>0</td>\n",
              "      <td>0</td>\n",
              "      <td>0</td>\n",
              "      <td>0</td>\n",
              "      <td>0</td>\n",
              "      <td>0</td>\n",
              "      <td>0</td>\n",
              "      <td>0</td>\n",
              "      <td>0</td>\n",
              "      <td>0</td>\n",
              "      <td>0</td>\n",
              "      <td>0</td>\n",
              "      <td>0</td>\n",
              "      <td>0</td>\n",
              "      <td>1</td>\n",
              "      <td>0</td>\n",
              "      <td>0</td>\n",
              "      <td>0</td>\n",
              "      <td>0</td>\n",
              "      <td>0</td>\n",
              "      <td>0</td>\n",
              "      <td>0</td>\n",
              "      <td>0</td>\n",
              "      <td>0</td>\n",
              "      <td>0</td>\n",
              "      <td>0</td>\n",
              "      <td>0</td>\n",
              "      <td>0</td>\n",
              "      <td>0</td>\n",
              "      <td>0</td>\n",
              "      <td>0</td>\n",
              "    </tr>\n",
              "    <tr>\n",
              "      <th>2</th>\n",
              "      <td>2010</td>\n",
              "      <td>134</td>\n",
              "      <td>0</td>\n",
              "      <td>0</td>\n",
              "      <td>0</td>\n",
              "      <td>1</td>\n",
              "      <td>0</td>\n",
              "      <td>0</td>\n",
              "      <td>0</td>\n",
              "      <td>0</td>\n",
              "      <td>0</td>\n",
              "      <td>0</td>\n",
              "      <td>0</td>\n",
              "      <td>0</td>\n",
              "      <td>0</td>\n",
              "      <td>0</td>\n",
              "      <td>0</td>\n",
              "      <td>0</td>\n",
              "      <td>0</td>\n",
              "      <td>0</td>\n",
              "      <td>0</td>\n",
              "      <td>0</td>\n",
              "      <td>0</td>\n",
              "      <td>0</td>\n",
              "      <td>0</td>\n",
              "      <td>0</td>\n",
              "      <td>0</td>\n",
              "      <td>0</td>\n",
              "      <td>0</td>\n",
              "      <td>0</td>\n",
              "      <td>0</td>\n",
              "      <td>0</td>\n",
              "      <td>0</td>\n",
              "      <td>0</td>\n",
              "      <td>0</td>\n",
              "      <td>0</td>\n",
              "      <td>1</td>\n",
              "      <td>0</td>\n",
              "      <td>0</td>\n",
              "      <td>0</td>\n",
              "      <td>0</td>\n",
              "      <td>0</td>\n",
              "      <td>0</td>\n",
              "      <td>0</td>\n",
              "      <td>0</td>\n",
              "      <td>0</td>\n",
              "      <td>0</td>\n",
              "      <td>0</td>\n",
              "      <td>0</td>\n",
              "      <td>0</td>\n",
              "      <td>0</td>\n",
              "      <td>0</td>\n",
              "      <td>0</td>\n",
              "    </tr>\n",
              "    <tr>\n",
              "      <th>3</th>\n",
              "      <td>2010</td>\n",
              "      <td>6</td>\n",
              "      <td>0</td>\n",
              "      <td>0</td>\n",
              "      <td>0</td>\n",
              "      <td>0</td>\n",
              "      <td>1</td>\n",
              "      <td>0</td>\n",
              "      <td>0</td>\n",
              "      <td>0</td>\n",
              "      <td>0</td>\n",
              "      <td>0</td>\n",
              "      <td>0</td>\n",
              "      <td>0</td>\n",
              "      <td>0</td>\n",
              "      <td>0</td>\n",
              "      <td>0</td>\n",
              "      <td>0</td>\n",
              "      <td>0</td>\n",
              "      <td>0</td>\n",
              "      <td>0</td>\n",
              "      <td>0</td>\n",
              "      <td>0</td>\n",
              "      <td>0</td>\n",
              "      <td>0</td>\n",
              "      <td>0</td>\n",
              "      <td>0</td>\n",
              "      <td>0</td>\n",
              "      <td>0</td>\n",
              "      <td>0</td>\n",
              "      <td>0</td>\n",
              "      <td>0</td>\n",
              "      <td>0</td>\n",
              "      <td>0</td>\n",
              "      <td>0</td>\n",
              "      <td>0</td>\n",
              "      <td>1</td>\n",
              "      <td>0</td>\n",
              "      <td>0</td>\n",
              "      <td>0</td>\n",
              "      <td>0</td>\n",
              "      <td>0</td>\n",
              "      <td>0</td>\n",
              "      <td>0</td>\n",
              "      <td>0</td>\n",
              "      <td>0</td>\n",
              "      <td>0</td>\n",
              "      <td>0</td>\n",
              "      <td>0</td>\n",
              "      <td>0</td>\n",
              "      <td>0</td>\n",
              "      <td>0</td>\n",
              "      <td>0</td>\n",
              "    </tr>\n",
              "    <tr>\n",
              "      <th>4</th>\n",
              "      <td>2010</td>\n",
              "      <td>3</td>\n",
              "      <td>0</td>\n",
              "      <td>0</td>\n",
              "      <td>0</td>\n",
              "      <td>0</td>\n",
              "      <td>0</td>\n",
              "      <td>1</td>\n",
              "      <td>0</td>\n",
              "      <td>0</td>\n",
              "      <td>0</td>\n",
              "      <td>0</td>\n",
              "      <td>0</td>\n",
              "      <td>0</td>\n",
              "      <td>0</td>\n",
              "      <td>0</td>\n",
              "      <td>0</td>\n",
              "      <td>0</td>\n",
              "      <td>0</td>\n",
              "      <td>0</td>\n",
              "      <td>0</td>\n",
              "      <td>0</td>\n",
              "      <td>0</td>\n",
              "      <td>0</td>\n",
              "      <td>0</td>\n",
              "      <td>0</td>\n",
              "      <td>0</td>\n",
              "      <td>0</td>\n",
              "      <td>0</td>\n",
              "      <td>0</td>\n",
              "      <td>0</td>\n",
              "      <td>0</td>\n",
              "      <td>0</td>\n",
              "      <td>0</td>\n",
              "      <td>0</td>\n",
              "      <td>0</td>\n",
              "      <td>1</td>\n",
              "      <td>0</td>\n",
              "      <td>0</td>\n",
              "      <td>0</td>\n",
              "      <td>0</td>\n",
              "      <td>0</td>\n",
              "      <td>0</td>\n",
              "      <td>0</td>\n",
              "      <td>0</td>\n",
              "      <td>0</td>\n",
              "      <td>0</td>\n",
              "      <td>0</td>\n",
              "      <td>0</td>\n",
              "      <td>0</td>\n",
              "      <td>0</td>\n",
              "      <td>0</td>\n",
              "      <td>0</td>\n",
              "    </tr>\n",
              "  </tbody>\n",
              "</table>\n",
              "</div>"
            ],
            "text/plain": [
              "    año  cantidad_de_defunciones  ...  80 y más  Menor de 1 año\n",
              "0  2010                      161  ...         0               0\n",
              "1  2010                       28  ...         0               0\n",
              "2  2010                      134  ...         0               0\n",
              "3  2010                        6  ...         0               0\n",
              "4  2010                        3  ...         0               0\n",
              "\n",
              "[5 rows x 53 columns]"
            ]
          },
          "metadata": {
            "tags": []
          },
          "execution_count": 436
        }
      ]
    },
    {
      "cell_type": "code",
      "metadata": {
        "id": "mQssNEhVjC44",
        "colab_type": "code",
        "outputId": "ae3a4092-55a0-4952-ec6e-fac44bdcef2e",
        "colab": {
          "base_uri": "https://localhost:8080/",
          "height": 34
        }
      },
      "source": [
        "defunciones_complete.shape"
      ],
      "execution_count": 0,
      "outputs": [
        {
          "output_type": "execute_result",
          "data": {
            "text/plain": [
              "(5185, 53)"
            ]
          },
          "metadata": {
            "tags": []
          },
          "execution_count": 437
        }
      ]
    },
    {
      "cell_type": "code",
      "metadata": {
        "id": "U2h_OQdirWRt",
        "colab_type": "code",
        "colab": {}
      },
      "source": [
        "defunciones_complete_dummies = defunciones_complete.drop(['año', 'cantidad_de_defunciones'], axis=1)"
      ],
      "execution_count": 0,
      "outputs": []
    },
    {
      "cell_type": "code",
      "metadata": {
        "id": "2j4ZYtG_jFHP",
        "colab_type": "code",
        "outputId": "108ad6ad-d77e-4753-9a9e-cfeddd044373",
        "colab": {
          "base_uri": "https://localhost:8080/",
          "height": 34
        }
      },
      "source": [
        "dummies_def = pd.Series(defunciones_complete_dummies.columns[np.where(defunciones_complete_dummies!=0)[1]])\n",
        "dummies_def.shape[0]"
      ],
      "execution_count": 0,
      "outputs": [
        {
          "output_type": "execute_result",
          "data": {
            "text/plain": [
              "10370"
            ]
          },
          "metadata": {
            "tags": []
          },
          "execution_count": 439
        }
      ]
    },
    {
      "cell_type": "code",
      "metadata": {
        "id": "WcYiNwYWr08C",
        "colab_type": "code",
        "outputId": "b2c72591-c4c3-4a3e-e0bb-27d4fd276f93",
        "colab": {
          "base_uri": "https://localhost:8080/",
          "height": 564
        }
      },
      "source": [
        "# ponemos las dummies como estaban originalmente\n",
        "defunciones_complete['causa_muerte'] = \"\"\n",
        "defunciones_complete['grupos_edad_nombre'] = \"\"\n",
        "for r in range(1,defunciones_complete.shape[0]+1,1):\n",
        "  defunciones_complete['causa_muerte'].values[r-1] = dummies_def[2*r-2]\n",
        "  defunciones_complete['grupos_edad_nombre'].values[r-1] = dummies_def[2*r-1]\n",
        "defunciones_complete.head()\n"
      ],
      "execution_count": 0,
      "outputs": [
        {
          "output_type": "execute_result",
          "data": {
            "text/html": [
              "<div>\n",
              "<style scoped>\n",
              "    .dataframe tbody tr th:only-of-type {\n",
              "        vertical-align: middle;\n",
              "    }\n",
              "\n",
              "    .dataframe tbody tr th {\n",
              "        vertical-align: top;\n",
              "    }\n",
              "\n",
              "    .dataframe thead th {\n",
              "        text-align: right;\n",
              "    }\n",
              "</style>\n",
              "<table border=\"1\" class=\"dataframe\">\n",
              "  <thead>\n",
              "    <tr style=\"text-align: right;\">\n",
              "      <th></th>\n",
              "      <th>año</th>\n",
              "      <th>cantidad_de_defunciones</th>\n",
              "      <th>Accidentes de transporte</th>\n",
              "      <th>Agresiones</th>\n",
              "      <th>Ciertas afecciones originadas en el periodo neonatal</th>\n",
              "      <th>Ciertas enfermedades infecciosas y parasitarias</th>\n",
              "      <th>Complicaciones de la atención médica y quirúrgica</th>\n",
              "      <th>Contacto traumático con animales y plantas venesosas</th>\n",
              "      <th>Embarazo, parto y puerperio</th>\n",
              "      <th>Enfermedades de la piel y el tejido subcutáneo</th>\n",
              "      <th>Enfermedades de la sangre y de los órganos hematopoyéticos y ciertos trastornos que afectan el mecanismo de la inmunidad</th>\n",
              "      <th>Enfermedades del ojo y sus anexos</th>\n",
              "      <th>Enfermedades del oído y de la apófisis mastoides</th>\n",
              "      <th>Enfermedades del sistema circulatorio</th>\n",
              "      <th>Enfermedades del sistema digestivo</th>\n",
              "      <th>Enfermedades del sistema genitourinario</th>\n",
              "      <th>Enfermedades del sistema nervioso</th>\n",
              "      <th>Enfermedades del sistema osteomuscular y del tejido conjuntivo</th>\n",
              "      <th>Enfermedades del sistema respiratorio</th>\n",
              "      <th>Enfermedades endócrinas, nutricionales y metabólicas</th>\n",
              "      <th>Envenenamiento accidental por exposición a sustancias nocivas</th>\n",
              "      <th>Eventos de intención no determinada</th>\n",
              "      <th>Exceso de esfuerzo, viajes y privación</th>\n",
              "      <th>Exposición a fuerzas de la naturaleza</th>\n",
              "      <th>Exposición accidental a otros factores y a los no especificados</th>\n",
              "      <th>Exposición al fuego, humo y llamas</th>\n",
              "      <th>Infecciones virales caracterizadas por lesiones de la piel y de la membranas mucosas</th>\n",
              "      <th>Intervención legal y operaciones de guerra</th>\n",
              "      <th>Lesiones autoinflingidas intencionalmente</th>\n",
              "      <th>Malformaciones congénitas</th>\n",
              "      <th>Otras causas externas de traumatismos accidentales</th>\n",
              "      <th>Secuelas de causas externas de morbilidad y mortalidad</th>\n",
              "      <th>Sintomas, signos y hallazgos anormales clinicos y de laboratorio no clasificados en otra parte</th>\n",
              "      <th>Trastornos mentales y del comportamiento</th>\n",
              "      <th>Tumores (neoplasias)</th>\n",
              "      <th>Tumores (neoplasias) malignos</th>\n",
              "      <th>1 a 9</th>\n",
              "      <th>10 a 14</th>\n",
              "      <th>15 a 19</th>\n",
              "      <th>20 a 24</th>\n",
              "      <th>25 a 29</th>\n",
              "      <th>30 a 34</th>\n",
              "      <th>35 a 39</th>\n",
              "      <th>40 a 44</th>\n",
              "      <th>45 a 49</th>\n",
              "      <th>50 a 54</th>\n",
              "      <th>55 a 59</th>\n",
              "      <th>60 a 64</th>\n",
              "      <th>65 a 69</th>\n",
              "      <th>70 a 74</th>\n",
              "      <th>75 a 79</th>\n",
              "      <th>80 y más</th>\n",
              "      <th>Menor de 1 año</th>\n",
              "      <th>causa_muerte</th>\n",
              "      <th>grupos_edad_nombre</th>\n",
              "    </tr>\n",
              "  </thead>\n",
              "  <tbody>\n",
              "    <tr>\n",
              "      <th>0</th>\n",
              "      <td>2010</td>\n",
              "      <td>161</td>\n",
              "      <td>1</td>\n",
              "      <td>0</td>\n",
              "      <td>0</td>\n",
              "      <td>0</td>\n",
              "      <td>0</td>\n",
              "      <td>0</td>\n",
              "      <td>0</td>\n",
              "      <td>0</td>\n",
              "      <td>0</td>\n",
              "      <td>0</td>\n",
              "      <td>0</td>\n",
              "      <td>0</td>\n",
              "      <td>0</td>\n",
              "      <td>0</td>\n",
              "      <td>0</td>\n",
              "      <td>0</td>\n",
              "      <td>0</td>\n",
              "      <td>0</td>\n",
              "      <td>0</td>\n",
              "      <td>0</td>\n",
              "      <td>0</td>\n",
              "      <td>0</td>\n",
              "      <td>0</td>\n",
              "      <td>0</td>\n",
              "      <td>0</td>\n",
              "      <td>0</td>\n",
              "      <td>0</td>\n",
              "      <td>0</td>\n",
              "      <td>0</td>\n",
              "      <td>0</td>\n",
              "      <td>0</td>\n",
              "      <td>0</td>\n",
              "      <td>0</td>\n",
              "      <td>0</td>\n",
              "      <td>1</td>\n",
              "      <td>0</td>\n",
              "      <td>0</td>\n",
              "      <td>0</td>\n",
              "      <td>0</td>\n",
              "      <td>0</td>\n",
              "      <td>0</td>\n",
              "      <td>0</td>\n",
              "      <td>0</td>\n",
              "      <td>0</td>\n",
              "      <td>0</td>\n",
              "      <td>0</td>\n",
              "      <td>0</td>\n",
              "      <td>0</td>\n",
              "      <td>0</td>\n",
              "      <td>0</td>\n",
              "      <td>0</td>\n",
              "      <td>Accidentes de transporte</td>\n",
              "      <td>1 a 9</td>\n",
              "    </tr>\n",
              "    <tr>\n",
              "      <th>1</th>\n",
              "      <td>2010</td>\n",
              "      <td>28</td>\n",
              "      <td>0</td>\n",
              "      <td>1</td>\n",
              "      <td>0</td>\n",
              "      <td>0</td>\n",
              "      <td>0</td>\n",
              "      <td>0</td>\n",
              "      <td>0</td>\n",
              "      <td>0</td>\n",
              "      <td>0</td>\n",
              "      <td>0</td>\n",
              "      <td>0</td>\n",
              "      <td>0</td>\n",
              "      <td>0</td>\n",
              "      <td>0</td>\n",
              "      <td>0</td>\n",
              "      <td>0</td>\n",
              "      <td>0</td>\n",
              "      <td>0</td>\n",
              "      <td>0</td>\n",
              "      <td>0</td>\n",
              "      <td>0</td>\n",
              "      <td>0</td>\n",
              "      <td>0</td>\n",
              "      <td>0</td>\n",
              "      <td>0</td>\n",
              "      <td>0</td>\n",
              "      <td>0</td>\n",
              "      <td>0</td>\n",
              "      <td>0</td>\n",
              "      <td>0</td>\n",
              "      <td>0</td>\n",
              "      <td>0</td>\n",
              "      <td>0</td>\n",
              "      <td>0</td>\n",
              "      <td>1</td>\n",
              "      <td>0</td>\n",
              "      <td>0</td>\n",
              "      <td>0</td>\n",
              "      <td>0</td>\n",
              "      <td>0</td>\n",
              "      <td>0</td>\n",
              "      <td>0</td>\n",
              "      <td>0</td>\n",
              "      <td>0</td>\n",
              "      <td>0</td>\n",
              "      <td>0</td>\n",
              "      <td>0</td>\n",
              "      <td>0</td>\n",
              "      <td>0</td>\n",
              "      <td>0</td>\n",
              "      <td>0</td>\n",
              "      <td>Agresiones</td>\n",
              "      <td>1 a 9</td>\n",
              "    </tr>\n",
              "    <tr>\n",
              "      <th>2</th>\n",
              "      <td>2010</td>\n",
              "      <td>134</td>\n",
              "      <td>0</td>\n",
              "      <td>0</td>\n",
              "      <td>0</td>\n",
              "      <td>1</td>\n",
              "      <td>0</td>\n",
              "      <td>0</td>\n",
              "      <td>0</td>\n",
              "      <td>0</td>\n",
              "      <td>0</td>\n",
              "      <td>0</td>\n",
              "      <td>0</td>\n",
              "      <td>0</td>\n",
              "      <td>0</td>\n",
              "      <td>0</td>\n",
              "      <td>0</td>\n",
              "      <td>0</td>\n",
              "      <td>0</td>\n",
              "      <td>0</td>\n",
              "      <td>0</td>\n",
              "      <td>0</td>\n",
              "      <td>0</td>\n",
              "      <td>0</td>\n",
              "      <td>0</td>\n",
              "      <td>0</td>\n",
              "      <td>0</td>\n",
              "      <td>0</td>\n",
              "      <td>0</td>\n",
              "      <td>0</td>\n",
              "      <td>0</td>\n",
              "      <td>0</td>\n",
              "      <td>0</td>\n",
              "      <td>0</td>\n",
              "      <td>0</td>\n",
              "      <td>0</td>\n",
              "      <td>1</td>\n",
              "      <td>0</td>\n",
              "      <td>0</td>\n",
              "      <td>0</td>\n",
              "      <td>0</td>\n",
              "      <td>0</td>\n",
              "      <td>0</td>\n",
              "      <td>0</td>\n",
              "      <td>0</td>\n",
              "      <td>0</td>\n",
              "      <td>0</td>\n",
              "      <td>0</td>\n",
              "      <td>0</td>\n",
              "      <td>0</td>\n",
              "      <td>0</td>\n",
              "      <td>0</td>\n",
              "      <td>0</td>\n",
              "      <td>Ciertas enfermedades infecciosas y parasitarias</td>\n",
              "      <td>1 a 9</td>\n",
              "    </tr>\n",
              "    <tr>\n",
              "      <th>3</th>\n",
              "      <td>2010</td>\n",
              "      <td>6</td>\n",
              "      <td>0</td>\n",
              "      <td>0</td>\n",
              "      <td>0</td>\n",
              "      <td>0</td>\n",
              "      <td>1</td>\n",
              "      <td>0</td>\n",
              "      <td>0</td>\n",
              "      <td>0</td>\n",
              "      <td>0</td>\n",
              "      <td>0</td>\n",
              "      <td>0</td>\n",
              "      <td>0</td>\n",
              "      <td>0</td>\n",
              "      <td>0</td>\n",
              "      <td>0</td>\n",
              "      <td>0</td>\n",
              "      <td>0</td>\n",
              "      <td>0</td>\n",
              "      <td>0</td>\n",
              "      <td>0</td>\n",
              "      <td>0</td>\n",
              "      <td>0</td>\n",
              "      <td>0</td>\n",
              "      <td>0</td>\n",
              "      <td>0</td>\n",
              "      <td>0</td>\n",
              "      <td>0</td>\n",
              "      <td>0</td>\n",
              "      <td>0</td>\n",
              "      <td>0</td>\n",
              "      <td>0</td>\n",
              "      <td>0</td>\n",
              "      <td>0</td>\n",
              "      <td>0</td>\n",
              "      <td>1</td>\n",
              "      <td>0</td>\n",
              "      <td>0</td>\n",
              "      <td>0</td>\n",
              "      <td>0</td>\n",
              "      <td>0</td>\n",
              "      <td>0</td>\n",
              "      <td>0</td>\n",
              "      <td>0</td>\n",
              "      <td>0</td>\n",
              "      <td>0</td>\n",
              "      <td>0</td>\n",
              "      <td>0</td>\n",
              "      <td>0</td>\n",
              "      <td>0</td>\n",
              "      <td>0</td>\n",
              "      <td>0</td>\n",
              "      <td>Complicaciones de la atención médica y quirúrgica</td>\n",
              "      <td>1 a 9</td>\n",
              "    </tr>\n",
              "    <tr>\n",
              "      <th>4</th>\n",
              "      <td>2010</td>\n",
              "      <td>3</td>\n",
              "      <td>0</td>\n",
              "      <td>0</td>\n",
              "      <td>0</td>\n",
              "      <td>0</td>\n",
              "      <td>0</td>\n",
              "      <td>1</td>\n",
              "      <td>0</td>\n",
              "      <td>0</td>\n",
              "      <td>0</td>\n",
              "      <td>0</td>\n",
              "      <td>0</td>\n",
              "      <td>0</td>\n",
              "      <td>0</td>\n",
              "      <td>0</td>\n",
              "      <td>0</td>\n",
              "      <td>0</td>\n",
              "      <td>0</td>\n",
              "      <td>0</td>\n",
              "      <td>0</td>\n",
              "      <td>0</td>\n",
              "      <td>0</td>\n",
              "      <td>0</td>\n",
              "      <td>0</td>\n",
              "      <td>0</td>\n",
              "      <td>0</td>\n",
              "      <td>0</td>\n",
              "      <td>0</td>\n",
              "      <td>0</td>\n",
              "      <td>0</td>\n",
              "      <td>0</td>\n",
              "      <td>0</td>\n",
              "      <td>0</td>\n",
              "      <td>0</td>\n",
              "      <td>0</td>\n",
              "      <td>1</td>\n",
              "      <td>0</td>\n",
              "      <td>0</td>\n",
              "      <td>0</td>\n",
              "      <td>0</td>\n",
              "      <td>0</td>\n",
              "      <td>0</td>\n",
              "      <td>0</td>\n",
              "      <td>0</td>\n",
              "      <td>0</td>\n",
              "      <td>0</td>\n",
              "      <td>0</td>\n",
              "      <td>0</td>\n",
              "      <td>0</td>\n",
              "      <td>0</td>\n",
              "      <td>0</td>\n",
              "      <td>0</td>\n",
              "      <td>Contacto traumático con animales y plantas ven...</td>\n",
              "      <td>1 a 9</td>\n",
              "    </tr>\n",
              "  </tbody>\n",
              "</table>\n",
              "</div>"
            ],
            "text/plain": [
              "    año  ...  grupos_edad_nombre\n",
              "0  2010  ...               1 a 9\n",
              "1  2010  ...               1 a 9\n",
              "2  2010  ...               1 a 9\n",
              "3  2010  ...               1 a 9\n",
              "4  2010  ...               1 a 9\n",
              "\n",
              "[5 rows x 55 columns]"
            ]
          },
          "metadata": {
            "tags": []
          },
          "execution_count": 440
        }
      ]
    },
    {
      "cell_type": "code",
      "metadata": {
        "id": "v6KtLXWRsh1c",
        "colab_type": "code",
        "outputId": "931f6b92-66f1-436f-d1a6-676bf9f7e899",
        "colab": {
          "base_uri": "https://localhost:8080/",
          "height": 359
        }
      },
      "source": [
        "#quitamos las dummies para tener nuestro dataset reconstruido\n",
        "defunciones_complete = defunciones_complete.loc[:, ['grupos_edad_nombre','año','causa_muerte','cantidad_de_defunciones']] \n",
        "defunciones_complete.head(10)"
      ],
      "execution_count": 0,
      "outputs": [
        {
          "output_type": "execute_result",
          "data": {
            "text/html": [
              "<div>\n",
              "<style scoped>\n",
              "    .dataframe tbody tr th:only-of-type {\n",
              "        vertical-align: middle;\n",
              "    }\n",
              "\n",
              "    .dataframe tbody tr th {\n",
              "        vertical-align: top;\n",
              "    }\n",
              "\n",
              "    .dataframe thead th {\n",
              "        text-align: right;\n",
              "    }\n",
              "</style>\n",
              "<table border=\"1\" class=\"dataframe\">\n",
              "  <thead>\n",
              "    <tr style=\"text-align: right;\">\n",
              "      <th></th>\n",
              "      <th>grupos_edad_nombre</th>\n",
              "      <th>año</th>\n",
              "      <th>causa_muerte</th>\n",
              "      <th>cantidad_de_defunciones</th>\n",
              "    </tr>\n",
              "  </thead>\n",
              "  <tbody>\n",
              "    <tr>\n",
              "      <th>0</th>\n",
              "      <td>1 a 9</td>\n",
              "      <td>2010</td>\n",
              "      <td>Accidentes de transporte</td>\n",
              "      <td>161</td>\n",
              "    </tr>\n",
              "    <tr>\n",
              "      <th>1</th>\n",
              "      <td>1 a 9</td>\n",
              "      <td>2010</td>\n",
              "      <td>Agresiones</td>\n",
              "      <td>28</td>\n",
              "    </tr>\n",
              "    <tr>\n",
              "      <th>2</th>\n",
              "      <td>1 a 9</td>\n",
              "      <td>2010</td>\n",
              "      <td>Ciertas enfermedades infecciosas y parasitarias</td>\n",
              "      <td>134</td>\n",
              "    </tr>\n",
              "    <tr>\n",
              "      <th>3</th>\n",
              "      <td>1 a 9</td>\n",
              "      <td>2010</td>\n",
              "      <td>Complicaciones de la atención médica y quirúrgica</td>\n",
              "      <td>6</td>\n",
              "    </tr>\n",
              "    <tr>\n",
              "      <th>4</th>\n",
              "      <td>1 a 9</td>\n",
              "      <td>2010</td>\n",
              "      <td>Contacto traumático con animales y plantas ven...</td>\n",
              "      <td>3</td>\n",
              "    </tr>\n",
              "    <tr>\n",
              "      <th>5</th>\n",
              "      <td>1 a 9</td>\n",
              "      <td>2010</td>\n",
              "      <td>Enfermedades de la piel y el tejido subcutáneo</td>\n",
              "      <td>2</td>\n",
              "    </tr>\n",
              "    <tr>\n",
              "      <th>6</th>\n",
              "      <td>1 a 9</td>\n",
              "      <td>2010</td>\n",
              "      <td>Enfermedades de la sangre y de los órganos hem...</td>\n",
              "      <td>37</td>\n",
              "    </tr>\n",
              "    <tr>\n",
              "      <th>7</th>\n",
              "      <td>1 a 9</td>\n",
              "      <td>2010</td>\n",
              "      <td>Enfermedades del sistema circulatorio</td>\n",
              "      <td>73</td>\n",
              "    </tr>\n",
              "    <tr>\n",
              "      <th>8</th>\n",
              "      <td>1 a 9</td>\n",
              "      <td>2010</td>\n",
              "      <td>Enfermedades del sistema digestivo</td>\n",
              "      <td>43</td>\n",
              "    </tr>\n",
              "    <tr>\n",
              "      <th>9</th>\n",
              "      <td>1 a 9</td>\n",
              "      <td>2010</td>\n",
              "      <td>Enfermedades del sistema genitourinario</td>\n",
              "      <td>12</td>\n",
              "    </tr>\n",
              "  </tbody>\n",
              "</table>\n",
              "</div>"
            ],
            "text/plain": [
              "  grupos_edad_nombre  ...  cantidad_de_defunciones\n",
              "0              1 a 9  ...                      161\n",
              "1              1 a 9  ...                       28\n",
              "2              1 a 9  ...                      134\n",
              "3              1 a 9  ...                        6\n",
              "4              1 a 9  ...                        3\n",
              "5              1 a 9  ...                        2\n",
              "6              1 a 9  ...                       37\n",
              "7              1 a 9  ...                       73\n",
              "8              1 a 9  ...                       43\n",
              "9              1 a 9  ...                       12\n",
              "\n",
              "[10 rows x 4 columns]"
            ]
          },
          "metadata": {
            "tags": []
          },
          "execution_count": 441
        }
      ]
    },
    {
      "cell_type": "code",
      "metadata": {
        "id": "SdG1qU_dtVn9",
        "colab_type": "code",
        "outputId": "57c59b04-c1f7-4bd4-b0d2-f21adf950727",
        "colab": {
          "base_uri": "https://localhost:8080/",
          "height": 204
        }
      },
      "source": [
        "defunciones_complete.loc[(defunciones_complete.año == 2017)].head(5)"
      ],
      "execution_count": 0,
      "outputs": [
        {
          "output_type": "execute_result",
          "data": {
            "text/html": [
              "<div>\n",
              "<style scoped>\n",
              "    .dataframe tbody tr th:only-of-type {\n",
              "        vertical-align: middle;\n",
              "    }\n",
              "\n",
              "    .dataframe tbody tr th {\n",
              "        vertical-align: top;\n",
              "    }\n",
              "\n",
              "    .dataframe thead th {\n",
              "        text-align: right;\n",
              "    }\n",
              "</style>\n",
              "<table border=\"1\" class=\"dataframe\">\n",
              "  <thead>\n",
              "    <tr style=\"text-align: right;\">\n",
              "      <th></th>\n",
              "      <th>grupos_edad_nombre</th>\n",
              "      <th>año</th>\n",
              "      <th>causa_muerte</th>\n",
              "      <th>cantidad_de_defunciones</th>\n",
              "    </tr>\n",
              "  </thead>\n",
              "  <tbody>\n",
              "    <tr>\n",
              "      <th>180</th>\n",
              "      <td>1 a 9</td>\n",
              "      <td>2017</td>\n",
              "      <td>Accidentes de transporte</td>\n",
              "      <td>134</td>\n",
              "    </tr>\n",
              "    <tr>\n",
              "      <th>181</th>\n",
              "      <td>1 a 9</td>\n",
              "      <td>2017</td>\n",
              "      <td>Agresiones</td>\n",
              "      <td>28</td>\n",
              "    </tr>\n",
              "    <tr>\n",
              "      <th>182</th>\n",
              "      <td>1 a 9</td>\n",
              "      <td>2017</td>\n",
              "      <td>Ciertas afecciones originadas en el periodo ne...</td>\n",
              "      <td>4</td>\n",
              "    </tr>\n",
              "    <tr>\n",
              "      <th>183</th>\n",
              "      <td>1 a 9</td>\n",
              "      <td>2017</td>\n",
              "      <td>Ciertas enfermedades infecciosas y parasitarias</td>\n",
              "      <td>81</td>\n",
              "    </tr>\n",
              "    <tr>\n",
              "      <th>184</th>\n",
              "      <td>1 a 9</td>\n",
              "      <td>2017</td>\n",
              "      <td>Complicaciones de la atención médica y quirúrgica</td>\n",
              "      <td>8</td>\n",
              "    </tr>\n",
              "  </tbody>\n",
              "</table>\n",
              "</div>"
            ],
            "text/plain": [
              "    grupos_edad_nombre  ...  cantidad_de_defunciones\n",
              "180              1 a 9  ...                      134\n",
              "181              1 a 9  ...                       28\n",
              "182              1 a 9  ...                        4\n",
              "183              1 a 9  ...                       81\n",
              "184              1 a 9  ...                        8\n",
              "\n",
              "[5 rows x 4 columns]"
            ]
          },
          "metadata": {
            "tags": []
          },
          "execution_count": 442
        }
      ]
    },
    {
      "cell_type": "code",
      "metadata": {
        "id": "hLPVF9CKyfn9",
        "colab_type": "code",
        "outputId": "5e3fd7a3-d23d-4a33-c82f-05e209bc7144",
        "colab": {
          "base_uri": "https://localhost:8080/",
          "height": 204
        }
      },
      "source": [
        "defunciones_complete.loc[(defunciones_complete.año == 2018)].head(5)"
      ],
      "execution_count": 0,
      "outputs": [
        {
          "output_type": "execute_result",
          "data": {
            "text/html": [
              "<div>\n",
              "<style scoped>\n",
              "    .dataframe tbody tr th:only-of-type {\n",
              "        vertical-align: middle;\n",
              "    }\n",
              "\n",
              "    .dataframe tbody tr th {\n",
              "        vertical-align: top;\n",
              "    }\n",
              "\n",
              "    .dataframe thead th {\n",
              "        text-align: right;\n",
              "    }\n",
              "</style>\n",
              "<table border=\"1\" class=\"dataframe\">\n",
              "  <thead>\n",
              "    <tr style=\"text-align: right;\">\n",
              "      <th></th>\n",
              "      <th>grupos_edad_nombre</th>\n",
              "      <th>año</th>\n",
              "      <th>causa_muerte</th>\n",
              "      <th>cantidad_de_defunciones</th>\n",
              "    </tr>\n",
              "  </thead>\n",
              "  <tbody>\n",
              "    <tr>\n",
              "      <th>0</th>\n",
              "      <td>1 a 9</td>\n",
              "      <td>2018</td>\n",
              "      <td>Accidentes de transporte</td>\n",
              "      <td>134</td>\n",
              "    </tr>\n",
              "    <tr>\n",
              "      <th>1</th>\n",
              "      <td>1 a 9</td>\n",
              "      <td>2018</td>\n",
              "      <td>Agresiones</td>\n",
              "      <td>27</td>\n",
              "    </tr>\n",
              "    <tr>\n",
              "      <th>2</th>\n",
              "      <td>1 a 9</td>\n",
              "      <td>2018</td>\n",
              "      <td>Ciertas afecciones originadas en el periodo ne...</td>\n",
              "      <td>4</td>\n",
              "    </tr>\n",
              "    <tr>\n",
              "      <th>3</th>\n",
              "      <td>1 a 9</td>\n",
              "      <td>2018</td>\n",
              "      <td>Ciertas enfermedades infecciosas y parasitarias</td>\n",
              "      <td>88</td>\n",
              "    </tr>\n",
              "    <tr>\n",
              "      <th>4</th>\n",
              "      <td>1 a 9</td>\n",
              "      <td>2018</td>\n",
              "      <td>Complicaciones de la atención médica y quirúrgica</td>\n",
              "      <td>7</td>\n",
              "    </tr>\n",
              "  </tbody>\n",
              "</table>\n",
              "</div>"
            ],
            "text/plain": [
              "  grupos_edad_nombre  ...  cantidad_de_defunciones\n",
              "0              1 a 9  ...                      134\n",
              "1              1 a 9  ...                       27\n",
              "2              1 a 9  ...                        4\n",
              "3              1 a 9  ...                       88\n",
              "4              1 a 9  ...                        7\n",
              "\n",
              "[5 rows x 4 columns]"
            ]
          },
          "metadata": {
            "tags": []
          },
          "execution_count": 443
        }
      ]
    },
    {
      "cell_type": "code",
      "metadata": {
        "id": "ZUOs7VmhTpkc",
        "colab_type": "code",
        "outputId": "83f26472-746e-4721-9d4e-8fdacd92b84f",
        "colab": {
          "base_uri": "https://localhost:8080/",
          "height": 204
        }
      },
      "source": [
        "defunciones_complete.loc[(defunciones_complete.año == 2019)].head(5)"
      ],
      "execution_count": 0,
      "outputs": [
        {
          "output_type": "execute_result",
          "data": {
            "text/html": [
              "<div>\n",
              "<style scoped>\n",
              "    .dataframe tbody tr th:only-of-type {\n",
              "        vertical-align: middle;\n",
              "    }\n",
              "\n",
              "    .dataframe tbody tr th {\n",
              "        vertical-align: top;\n",
              "    }\n",
              "\n",
              "    .dataframe thead th {\n",
              "        text-align: right;\n",
              "    }\n",
              "</style>\n",
              "<table border=\"1\" class=\"dataframe\">\n",
              "  <thead>\n",
              "    <tr style=\"text-align: right;\">\n",
              "      <th></th>\n",
              "      <th>grupos_edad_nombre</th>\n",
              "      <th>año</th>\n",
              "      <th>causa_muerte</th>\n",
              "      <th>cantidad_de_defunciones</th>\n",
              "    </tr>\n",
              "  </thead>\n",
              "  <tbody>\n",
              "    <tr>\n",
              "      <th>481</th>\n",
              "      <td>1 a 9</td>\n",
              "      <td>2019</td>\n",
              "      <td>Accidentes de transporte</td>\n",
              "      <td>134</td>\n",
              "    </tr>\n",
              "    <tr>\n",
              "      <th>482</th>\n",
              "      <td>1 a 9</td>\n",
              "      <td>2019</td>\n",
              "      <td>Agresiones</td>\n",
              "      <td>26</td>\n",
              "    </tr>\n",
              "    <tr>\n",
              "      <th>483</th>\n",
              "      <td>1 a 9</td>\n",
              "      <td>2019</td>\n",
              "      <td>Ciertas afecciones originadas en el periodo ne...</td>\n",
              "      <td>4</td>\n",
              "    </tr>\n",
              "    <tr>\n",
              "      <th>484</th>\n",
              "      <td>1 a 9</td>\n",
              "      <td>2019</td>\n",
              "      <td>Ciertas enfermedades infecciosas y parasitarias</td>\n",
              "      <td>89</td>\n",
              "    </tr>\n",
              "    <tr>\n",
              "      <th>485</th>\n",
              "      <td>1 a 9</td>\n",
              "      <td>2019</td>\n",
              "      <td>Complicaciones de la atención médica y quirúrgica</td>\n",
              "      <td>6</td>\n",
              "    </tr>\n",
              "  </tbody>\n",
              "</table>\n",
              "</div>"
            ],
            "text/plain": [
              "    grupos_edad_nombre  ...  cantidad_de_defunciones\n",
              "481              1 a 9  ...                      134\n",
              "482              1 a 9  ...                       26\n",
              "483              1 a 9  ...                        4\n",
              "484              1 a 9  ...                       89\n",
              "485              1 a 9  ...                        6\n",
              "\n",
              "[5 rows x 4 columns]"
            ]
          },
          "metadata": {
            "tags": []
          },
          "execution_count": 444
        }
      ]
    },
    {
      "cell_type": "code",
      "metadata": {
        "id": "Jl3vwNxFYree",
        "colab_type": "code",
        "outputId": "6d004536-5c1c-4e8f-da6a-d62fd58947d5",
        "colab": {
          "base_uri": "https://localhost:8080/",
          "height": 204
        }
      },
      "source": [
        "defunciones_complete.loc[(defunciones_complete.año == 2020)].head(5)"
      ],
      "execution_count": 0,
      "outputs": [
        {
          "output_type": "execute_result",
          "data": {
            "text/html": [
              "<div>\n",
              "<style scoped>\n",
              "    .dataframe tbody tr th:only-of-type {\n",
              "        vertical-align: middle;\n",
              "    }\n",
              "\n",
              "    .dataframe tbody tr th {\n",
              "        vertical-align: top;\n",
              "    }\n",
              "\n",
              "    .dataframe thead th {\n",
              "        text-align: right;\n",
              "    }\n",
              "</style>\n",
              "<table border=\"1\" class=\"dataframe\">\n",
              "  <thead>\n",
              "    <tr style=\"text-align: right;\">\n",
              "      <th></th>\n",
              "      <th>grupos_edad_nombre</th>\n",
              "      <th>año</th>\n",
              "      <th>causa_muerte</th>\n",
              "      <th>cantidad_de_defunciones</th>\n",
              "    </tr>\n",
              "  </thead>\n",
              "  <tbody>\n",
              "    <tr>\n",
              "      <th>962</th>\n",
              "      <td>1 a 9</td>\n",
              "      <td>2020</td>\n",
              "      <td>Accidentes de transporte</td>\n",
              "      <td>134</td>\n",
              "    </tr>\n",
              "    <tr>\n",
              "      <th>963</th>\n",
              "      <td>1 a 9</td>\n",
              "      <td>2020</td>\n",
              "      <td>Agresiones</td>\n",
              "      <td>26</td>\n",
              "    </tr>\n",
              "    <tr>\n",
              "      <th>964</th>\n",
              "      <td>1 a 9</td>\n",
              "      <td>2020</td>\n",
              "      <td>Ciertas afecciones originadas en el periodo ne...</td>\n",
              "      <td>4</td>\n",
              "    </tr>\n",
              "    <tr>\n",
              "      <th>965</th>\n",
              "      <td>1 a 9</td>\n",
              "      <td>2020</td>\n",
              "      <td>Ciertas enfermedades infecciosas y parasitarias</td>\n",
              "      <td>90</td>\n",
              "    </tr>\n",
              "    <tr>\n",
              "      <th>966</th>\n",
              "      <td>1 a 9</td>\n",
              "      <td>2020</td>\n",
              "      <td>Complicaciones de la atención médica y quirúrgica</td>\n",
              "      <td>6</td>\n",
              "    </tr>\n",
              "  </tbody>\n",
              "</table>\n",
              "</div>"
            ],
            "text/plain": [
              "    grupos_edad_nombre  ...  cantidad_de_defunciones\n",
              "962              1 a 9  ...                      134\n",
              "963              1 a 9  ...                       26\n",
              "964              1 a 9  ...                        4\n",
              "965              1 a 9  ...                       90\n",
              "966              1 a 9  ...                        6\n",
              "\n",
              "[5 rows x 4 columns]"
            ]
          },
          "metadata": {
            "tags": []
          },
          "execution_count": 445
        }
      ]
    },
    {
      "cell_type": "code",
      "metadata": {
        "id": "F1JUF2VxvOJS",
        "colab_type": "code",
        "outputId": "58866836-180f-497f-c5f0-8c2079ab793a",
        "colab": {
          "base_uri": "https://localhost:8080/",
          "height": 384
        }
      },
      "source": [
        "muertes_por_causa_año = defunciones_g.groupby([\"causa_muerte\"])[\"cantidad_de_defunciones\"].sum().sort_values(ascending=False).iloc[0:10]\n",
        "muertes_por_causa_año.to_frame()\n",
        "df_muertes_por_causa_año = pd.DataFrame(muertes_por_causa_año)\n",
        "df_muertes_por_causa_año['causa'] = df_muertes_por_causa_año.index\n",
        "def2 = pd.DataFrame(defunciones_complete) \n",
        "def2 = def2.loc[(def2.causa_muerte == df_muertes_por_causa_año['causa'][0]) | (def2.causa_muerte == df_muertes_por_causa_año['causa'][1]) | (def2.causa_muerte == df_muertes_por_causa_año['causa'][2]) | (def2.causa_muerte == df_muertes_por_causa_año['causa'][3]) | (def2.causa_muerte == df_muertes_por_causa_año['causa'][4])]\n",
        "flujo_tabla = pd.pivot_table(data = def2, values = ['cantidad_de_defunciones'], index = ['año'], columns = ['causa_muerte'], aggfunc= np.sum, )\n",
        "sns.set_context(\"talk\", font_scale=0.8)\n",
        "flujo_tabla.plot(title = \"Cantidad de muertes por año de las primeras 5 causas de muerte más frecuentes\", figsize=(10,5))\n",
        "plt.legend(loc='center left', bbox_to_anchor=(1, 0.5))\n",
        "plt.show()"
      ],
      "execution_count": 0,
      "outputs": [
        {
          "output_type": "display_data",
          "data": {
            "image/png": "[encoded data removed]",
            "text/plain": [
              "<Figure size 720x360 with 1 Axes>"
            ]
          },
          "metadata": {
            "tags": []
          }
        }
      ]
    },
    {
      "cell_type": "code",
      "metadata": {
        "id": "JE_oua3Kov7N",
        "colab_type": "code",
        "outputId": "c88f7d88-ddc8-4747-cdb0-27deb528d27e",
        "colab": {
          "base_uri": "https://localhost:8080/",
          "height": 486
        }
      },
      "source": [
        "flujo_tabla"
      ],
      "execution_count": 0,
      "outputs": [
        {
          "output_type": "execute_result",
          "data": {
            "text/html": [
              "<div>\n",
              "<style scoped>\n",
              "    .dataframe tbody tr th:only-of-type {\n",
              "        vertical-align: middle;\n",
              "    }\n",
              "\n",
              "    .dataframe tbody tr th {\n",
              "        vertical-align: top;\n",
              "    }\n",
              "\n",
              "    .dataframe thead tr th {\n",
              "        text-align: left;\n",
              "    }\n",
              "\n",
              "    .dataframe thead tr:last-of-type th {\n",
              "        text-align: right;\n",
              "    }\n",
              "</style>\n",
              "<table border=\"1\" class=\"dataframe\">\n",
              "  <thead>\n",
              "    <tr>\n",
              "      <th></th>\n",
              "      <th colspan=\"5\" halign=\"left\">cantidad_de_defunciones</th>\n",
              "    </tr>\n",
              "    <tr>\n",
              "      <th>causa_muerte</th>\n",
              "      <th>Enfermedades del sistema circulatorio</th>\n",
              "      <th>Enfermedades del sistema digestivo</th>\n",
              "      <th>Enfermedades del sistema respiratorio</th>\n",
              "      <th>Sintomas, signos y hallazgos anormales clinicos y de laboratorio no clasificados en otra parte</th>\n",
              "      <th>Tumores (neoplasias) malignos</th>\n",
              "    </tr>\n",
              "    <tr>\n",
              "      <th>año</th>\n",
              "      <th></th>\n",
              "      <th></th>\n",
              "      <th></th>\n",
              "      <th></th>\n",
              "      <th></th>\n",
              "    </tr>\n",
              "  </thead>\n",
              "  <tbody>\n",
              "    <tr>\n",
              "      <th>2010</th>\n",
              "      <td>96533</td>\n",
              "      <td>12619</td>\n",
              "      <td>48518</td>\n",
              "      <td>26519</td>\n",
              "      <td>57691</td>\n",
              "    </tr>\n",
              "    <tr>\n",
              "      <th>2011</th>\n",
              "      <td>95956</td>\n",
              "      <td>12990</td>\n",
              "      <td>49539</td>\n",
              "      <td>26464</td>\n",
              "      <td>57532</td>\n",
              "    </tr>\n",
              "    <tr>\n",
              "      <th>2012</th>\n",
              "      <td>95242</td>\n",
              "      <td>13454</td>\n",
              "      <td>48954</td>\n",
              "      <td>25086</td>\n",
              "      <td>58968</td>\n",
              "    </tr>\n",
              "    <tr>\n",
              "      <th>2013</th>\n",
              "      <td>93666</td>\n",
              "      <td>13972</td>\n",
              "      <td>52272</td>\n",
              "      <td>25873</td>\n",
              "      <td>59764</td>\n",
              "    </tr>\n",
              "    <tr>\n",
              "      <th>2014</th>\n",
              "      <td>91811</td>\n",
              "      <td>14698</td>\n",
              "      <td>53967</td>\n",
              "      <td>23180</td>\n",
              "      <td>60252</td>\n",
              "    </tr>\n",
              "    <tr>\n",
              "      <th>2015</th>\n",
              "      <td>95591</td>\n",
              "      <td>16173</td>\n",
              "      <td>56478</td>\n",
              "      <td>19292</td>\n",
              "      <td>61944</td>\n",
              "    </tr>\n",
              "    <tr>\n",
              "      <th>2016</th>\n",
              "      <td>100980</td>\n",
              "      <td>16793</td>\n",
              "      <td>64548</td>\n",
              "      <td>22451</td>\n",
              "      <td>62181</td>\n",
              "    </tr>\n",
              "    <tr>\n",
              "      <th>2017</th>\n",
              "      <td>96256</td>\n",
              "      <td>15535</td>\n",
              "      <td>64161</td>\n",
              "      <td>20344</td>\n",
              "      <td>62272</td>\n",
              "    </tr>\n",
              "    <tr>\n",
              "      <th>2018</th>\n",
              "      <td>97825</td>\n",
              "      <td>15950</td>\n",
              "      <td>64284</td>\n",
              "      <td>21039</td>\n",
              "      <td>62237</td>\n",
              "    </tr>\n",
              "    <tr>\n",
              "      <th>2019</th>\n",
              "      <td>98138</td>\n",
              "      <td>16029</td>\n",
              "      <td>64308</td>\n",
              "      <td>21181</td>\n",
              "      <td>62229</td>\n",
              "    </tr>\n",
              "    <tr>\n",
              "      <th>2020</th>\n",
              "      <td>98274</td>\n",
              "      <td>16066</td>\n",
              "      <td>64321</td>\n",
              "      <td>21241</td>\n",
              "      <td>62225</td>\n",
              "    </tr>\n",
              "  </tbody>\n",
              "</table>\n",
              "</div>"
            ],
            "text/plain": [
              "                           cantidad_de_defunciones  ...                              \n",
              "causa_muerte Enfermedades del sistema circulatorio  ... Tumores (neoplasias) malignos\n",
              "año                                                 ...                              \n",
              "2010                                         96533  ...                         57691\n",
              "2011                                         95956  ...                         57532\n",
              "2012                                         95242  ...                         58968\n",
              "2013                                         93666  ...                         59764\n",
              "2014                                         91811  ...                         60252\n",
              "2015                                         95591  ...                         61944\n",
              "2016                                        100980  ...                         62181\n",
              "2017                                         96256  ...                         62272\n",
              "2018                                         97825  ...                         62237\n",
              "2019                                         98138  ...                         62229\n",
              "2020                                         98274  ...                         62225\n",
              "\n",
              "[11 rows x 5 columns]"
            ]
          },
          "metadata": {
            "tags": []
          },
          "execution_count": 455
        }
      ]
    },
    {
      "cell_type": "code",
      "metadata": {
        "id": "p7uRwGsGwB4X",
        "colab_type": "code",
        "outputId": "616ca1f2-0d32-4a36-87b2-807ae7994a7f",
        "colab": {
          "base_uri": "https://localhost:8080/",
          "height": 384
        }
      },
      "source": [
        "muertes_por_causa_año = defunciones_g.groupby([\"causa_muerte\"])[\"cantidad_de_defunciones\"].sum().sort_values(ascending=False).iloc[5:15]\n",
        "muertes_por_causa_año.to_frame()\n",
        "df_muertes_por_causa_año = pd.DataFrame(muertes_por_causa_año)\n",
        "df_muertes_por_causa_año['causa'] = df_muertes_por_causa_año.index\n",
        "def2 = pd.DataFrame(defunciones_complete) \n",
        "def2 = def2.loc[(def2.causa_muerte == df_muertes_por_causa_año['causa'][0]) | (def2.causa_muerte == df_muertes_por_causa_año['causa'][1]) | (def2.causa_muerte == df_muertes_por_causa_año['causa'][2]) | (def2.causa_muerte == df_muertes_por_causa_año['causa'][3]) | (def2.causa_muerte == df_muertes_por_causa_año['causa'][4])]\n",
        "flujo_tabla2 = pd.pivot_table(data = def2, values = ['cantidad_de_defunciones'], index = ['año'], columns = ['causa_muerte'], aggfunc= np.sum, )\n",
        "sns.set_context(\"talk\", font_scale=0.8)\n",
        "flujo_tabla2.plot(title = \"Cantidad de muertes por año de las segundas 5 causas de muerte más frecuentes\", figsize=(10,5))\n",
        "plt.legend(loc='center left', bbox_to_anchor=(1, 0.5))\n",
        "plt.show()"
      ],
      "execution_count": 0,
      "outputs": [
        {
          "output_type": "display_data",
          "data": {
            "image/png": "[encoded data removed]",
            "text/plain": [
              "<Figure size 720x360 with 1 Axes>"
            ]
          },
          "metadata": {
            "tags": []
          }
        }
      ]
    },
    {
      "cell_type": "code",
      "metadata": {
        "id": "hhHRXMhkpD8U",
        "colab_type": "code",
        "outputId": "623860c8-f00c-4c80-e84a-588fbb2e8bb8",
        "colab": {
          "base_uri": "https://localhost:8080/",
          "height": 469
        }
      },
      "source": [
        "flujo_tabla2"
      ],
      "execution_count": 0,
      "outputs": [
        {
          "output_type": "execute_result",
          "data": {
            "text/html": [
              "<div>\n",
              "<style scoped>\n",
              "    .dataframe tbody tr th:only-of-type {\n",
              "        vertical-align: middle;\n",
              "    }\n",
              "\n",
              "    .dataframe tbody tr th {\n",
              "        vertical-align: top;\n",
              "    }\n",
              "\n",
              "    .dataframe thead tr th {\n",
              "        text-align: left;\n",
              "    }\n",
              "\n",
              "    .dataframe thead tr:last-of-type th {\n",
              "        text-align: right;\n",
              "    }\n",
              "</style>\n",
              "<table border=\"1\" class=\"dataframe\">\n",
              "  <thead>\n",
              "    <tr>\n",
              "      <th></th>\n",
              "      <th colspan=\"5\" halign=\"left\">cantidad_de_defunciones</th>\n",
              "    </tr>\n",
              "    <tr>\n",
              "      <th>causa_muerte</th>\n",
              "      <th>Accidentes de transporte</th>\n",
              "      <th>Ciertas enfermedades infecciosas y parasitarias</th>\n",
              "      <th>Enfermedades del sistema genitourinario</th>\n",
              "      <th>Enfermedades del sistema nervioso</th>\n",
              "      <th>Enfermedades endócrinas, nutricionales y metabólicas</th>\n",
              "    </tr>\n",
              "    <tr>\n",
              "      <th>año</th>\n",
              "      <th></th>\n",
              "      <th></th>\n",
              "      <th></th>\n",
              "      <th></th>\n",
              "      <th></th>\n",
              "    </tr>\n",
              "  </thead>\n",
              "  <tbody>\n",
              "    <tr>\n",
              "      <th>2010</th>\n",
              "      <td>4830</td>\n",
              "      <td>11971</td>\n",
              "      <td>9631</td>\n",
              "      <td>4582</td>\n",
              "      <td>11133</td>\n",
              "    </tr>\n",
              "    <tr>\n",
              "      <th>2011</th>\n",
              "      <td>5189</td>\n",
              "      <td>11946</td>\n",
              "      <td>9446</td>\n",
              "      <td>4311</td>\n",
              "      <td>11121</td>\n",
              "    </tr>\n",
              "    <tr>\n",
              "      <th>2012</th>\n",
              "      <td>5113</td>\n",
              "      <td>11296</td>\n",
              "      <td>10454</td>\n",
              "      <td>4582</td>\n",
              "      <td>11185</td>\n",
              "    </tr>\n",
              "    <tr>\n",
              "      <th>2013</th>\n",
              "      <td>5474</td>\n",
              "      <td>11878</td>\n",
              "      <td>11107</td>\n",
              "      <td>4993</td>\n",
              "      <td>11165</td>\n",
              "    </tr>\n",
              "    <tr>\n",
              "      <th>2014</th>\n",
              "      <td>5297</td>\n",
              "      <td>12091</td>\n",
              "      <td>11830</td>\n",
              "      <td>4725</td>\n",
              "      <td>11241</td>\n",
              "    </tr>\n",
              "    <tr>\n",
              "      <th>2015</th>\n",
              "      <td>4872</td>\n",
              "      <td>10958</td>\n",
              "      <td>12821</td>\n",
              "      <td>5253</td>\n",
              "      <td>12510</td>\n",
              "    </tr>\n",
              "    <tr>\n",
              "      <th>2016</th>\n",
              "      <td>4329</td>\n",
              "      <td>11360</td>\n",
              "      <td>13242</td>\n",
              "      <td>5713</td>\n",
              "      <td>13237</td>\n",
              "    </tr>\n",
              "    <tr>\n",
              "      <th>2017</th>\n",
              "      <td>4598</td>\n",
              "      <td>11695</td>\n",
              "      <td>13023</td>\n",
              "      <td>5094</td>\n",
              "      <td>12298</td>\n",
              "    </tr>\n",
              "    <tr>\n",
              "      <th>2018</th>\n",
              "      <td>4502</td>\n",
              "      <td>11577</td>\n",
              "      <td>13089</td>\n",
              "      <td>5296</td>\n",
              "      <td>12605</td>\n",
              "    </tr>\n",
              "    <tr>\n",
              "      <th>2019</th>\n",
              "      <td>4483</td>\n",
              "      <td>11555</td>\n",
              "      <td>13100</td>\n",
              "      <td>5334</td>\n",
              "      <td>12666</td>\n",
              "    </tr>\n",
              "    <tr>\n",
              "      <th>2020</th>\n",
              "      <td>4473</td>\n",
              "      <td>11544</td>\n",
              "      <td>13110</td>\n",
              "      <td>5352</td>\n",
              "      <td>12694</td>\n",
              "    </tr>\n",
              "  </tbody>\n",
              "</table>\n",
              "</div>"
            ],
            "text/plain": [
              "              cantidad_de_defunciones  ...                                                     \n",
              "causa_muerte Accidentes de transporte  ... Enfermedades endócrinas, nutricionales y metabólicas\n",
              "año                                    ...                                                     \n",
              "2010                             4830  ...                                              11133  \n",
              "2011                             5189  ...                                              11121  \n",
              "2012                             5113  ...                                              11185  \n",
              "2013                             5474  ...                                              11165  \n",
              "2014                             5297  ...                                              11241  \n",
              "2015                             4872  ...                                              12510  \n",
              "2016                             4329  ...                                              13237  \n",
              "2017                             4598  ...                                              12298  \n",
              "2018                             4502  ...                                              12605  \n",
              "2019                             4483  ...                                              12666  \n",
              "2020                             4473  ...                                              12694  \n",
              "\n",
              "[11 rows x 5 columns]"
            ]
          },
          "metadata": {
            "tags": []
          },
          "execution_count": 457
        }
      ]
    },
    {
      "cell_type": "code",
      "metadata": {
        "id": "rAkns7VIi6MD",
        "colab_type": "code",
        "outputId": "af6ce07a-f2c5-4bbd-9e6e-4792eae98de6",
        "colab": {
          "base_uri": "https://localhost:8080/",
          "height": 309
        }
      },
      "source": [
        "# Sumamos la cantidad de muertes por año\n",
        "muertes_por_año = defunciones_complete.groupby([\"año\"])[\"cantidad_de_defunciones\"].sum()\n",
        "muertes_por_año.head(10)\n",
        "sns.set_context(\"talk\", font_scale=0.8)\n",
        "muertes_por_año.plot(title = \"Cantidad de defunciones por año\")\n",
        "plt.legend(loc='center left', bbox_to_anchor=(1, 0.5))\n",
        "plt.show()"
      ],
      "execution_count": 0,
      "outputs": [
        {
          "output_type": "display_data",
          "data": {
            "image/png": "[encoded data removed]",
            "text/plain": [
              "<Figure size 432x288 with 1 Axes>"
            ]
          },
          "metadata": {
            "tags": []
          }
        }
      ]
    },
    {
      "cell_type": "code",
      "metadata": {
        "id": "s7D-L433vH9P",
        "colab_type": "code",
        "outputId": "748a7c26-55c8-4ace-f09d-80ace790a1c4",
        "colab": {
          "base_uri": "https://localhost:8080/",
          "height": 379
        }
      },
      "source": [
        "flujo_tabla2 = pd.pivot_table(data = defunciones_complete, values = ['cantidad_de_defunciones'], index = ['año'], columns = ['grupos_edad_nombre'], aggfunc= np.sum, )\n",
        "sns.set_context(\"talk\", font_scale=0.8)\n",
        "flujo_tabla2.plot(title = \"Cantidad de defunciones por año por edad\", figsize=(10,5))\n",
        "plt.legend(loc='center left', bbox_to_anchor=(1.1, 0.5))\n",
        "plt.show()"
      ],
      "execution_count": 0,
      "outputs": [
        {
          "output_type": "display_data",
          "data": {
            "image/png": "[encoded data removed]",
            "text/plain": [
              "<Figure size 720x360 with 1 Axes>"
            ]
          },
          "metadata": {
            "tags": []
          }
        }
      ]
    },
    {
      "cell_type": "code",
      "metadata": {
        "id": "N0OhFl8WRMer",
        "colab_type": "code",
        "colab": {}
      },
      "source": [
        ""
      ],
      "execution_count": 0,
      "outputs": []
    }
  ]
}